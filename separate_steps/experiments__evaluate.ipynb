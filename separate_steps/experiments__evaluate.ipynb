{
  "cells": [
    {
      "cell_type": "markdown",
      "metadata": {
        "id": "view-in-github",
        "colab_type": "text"
      },
      "source": [
        "<a href=\"https://colab.research.google.com/github/ekaterinaKrupkina/decomposer_notebooks/blob/main/separate_steps/experiments__evaluate.ipynb\" target=\"_parent\"><img src=\"https://colab.research.google.com/assets/colab-badge.svg\" alt=\"Open In Colab\"/></a>"
      ]
    },
    {
      "cell_type": "code",
      "execution_count": null,
      "metadata": {
        "id": "gjuqO0o3oD1x"
      },
      "outputs": [],
      "source": [
        "from google.colab import drive\n",
        "import os\n",
        "import subprocess\n",
        "import json\n",
        "from google.colab import userdata\n",
        "import shlex\n",
        "import pandas as pd\n",
        "import time\n",
        "import sys\n",
        "from datetime import datetime\n"
      ]
    },
    {
      "cell_type": "markdown",
      "metadata": {
        "id": "rkkUUNdfK_Gi"
      },
      "source": [
        "## Set up environment"
      ]
    },
    {
      "cell_type": "markdown",
      "metadata": {
        "id": "iufk8T9JLzVQ"
      },
      "source": [
        "## !!! After installation you'll be asked to reload the runtime. Please, REFUSE"
      ]
    },
    {
      "cell_type": "code",
      "execution_count": null,
      "metadata": {
        "colab": {
          "base_uri": "https://localhost:8080/"
        },
        "id": "UhWBFMKSpZsh",
        "outputId": "a3f08760-30e3-4d14-e40b-6758f96873eb"
      },
      "outputs": [
        {
          "output_type": "stream",
          "name": "stdout",
          "text": [
            "Mounted at /content/drive\n"
          ]
        }
      ],
      "source": [
        "drive.mount('/content/drive')"
      ]
    },
    {
      "cell_type": "code",
      "execution_count": null,
      "metadata": {
        "id": "IZF6m8okeFCR"
      },
      "outputs": [],
      "source": [
        "REQUIREMENTS_PATH = \"/content/drive/MyDrive/HarmBench/decomposer_notebooks/requirements_full.txt\""
      ]
    },
    {
      "cell_type": "code",
      "execution_count": null,
      "metadata": {
        "colab": {
          "base_uri": "https://localhost:8080/",
          "height": 1000
        },
        "collapsed": true,
        "id": "IFsB8TCkuXUL",
        "outputId": "81830a25-35c3-417e-e404-dd131d11a2dc"
      },
      "outputs": [
        {
          "output_type": "stream",
          "name": "stdout",
          "text": [
            "Collecting wandb (from -r /content/drive/MyDrive/HarmBench/requirements_full.txt (line 1))\n",
            "  Downloading wandb-0.17.4-py3-none-manylinux_2_5_x86_64.manylinux1_x86_64.manylinux_2_17_x86_64.manylinux2014_x86_64.whl (6.9 MB)\n",
            "\u001b[2K     \u001b[90m━━━━━━━━━━━━━━━━━━━━━━━━━━━━━━━━━━━━━━━━\u001b[0m \u001b[32m6.9/6.9 MB\u001b[0m \u001b[31m60.5 MB/s\u001b[0m eta \u001b[36m0:00:00\u001b[0m\n",
            "\u001b[?25hRequirement already satisfied: spacy in /usr/local/lib/python3.10/dist-packages (from -r /content/drive/MyDrive/HarmBench/requirements_full.txt (line 2)) (3.7.5)\n",
            "Requirement already satisfied: confection in /usr/local/lib/python3.10/dist-packages (from -r /content/drive/MyDrive/HarmBench/requirements_full.txt (line 3)) (0.1.5)\n",
            "Collecting vllm>=0.3.0 (from -r /content/drive/MyDrive/HarmBench/requirements_full.txt (line 4))\n",
            "  Downloading vllm-0.5.2-cp38-abi3-manylinux1_x86_64.whl (147.0 MB)\n",
            "\u001b[2K     \u001b[90m━━━━━━━━━━━━━━━━━━━━━━━━━━━━━━━━━━━━━━━━\u001b[0m \u001b[32m147.0/147.0 MB\u001b[0m \u001b[31m9.7 MB/s\u001b[0m eta \u001b[36m0:00:00\u001b[0m\n",
            "\u001b[?25hRequirement already satisfied: transformers in /usr/local/lib/python3.10/dist-packages (from -r /content/drive/MyDrive/HarmBench/requirements_full.txt (line 5)) (4.42.4)\n",
            "Collecting fschat (from -r /content/drive/MyDrive/HarmBench/requirements_full.txt (line 6))\n",
            "  Downloading fschat-0.2.36-py3-none-any.whl (256 kB)\n",
            "\u001b[2K     \u001b[90m━━━━━━━━━━━━━━━━━━━━━━━━━━━━━━━━━━━━━━━━\u001b[0m \u001b[32m256.9/256.9 kB\u001b[0m \u001b[31m34.6 MB/s\u001b[0m eta \u001b[36m0:00:00\u001b[0m\n",
            "\u001b[?25hCollecting ray (from -r /content/drive/MyDrive/HarmBench/requirements_full.txt (line 7))\n",
            "  Downloading ray-2.32.0-cp310-cp310-manylinux2014_x86_64.whl (65.7 MB)\n",
            "\u001b[2K     \u001b[90m━━━━━━━━━━━━━━━━━━━━━━━━━━━━━━━━━━━━━━━━\u001b[0m \u001b[32m65.7/65.7 MB\u001b[0m \u001b[31m22.2 MB/s\u001b[0m eta \u001b[36m0:00:00\u001b[0m\n",
            "\u001b[?25hCollecting openai>=1.25.1 (from -r /content/drive/MyDrive/HarmBench/requirements_full.txt (line 8))\n",
            "  Downloading openai-1.36.0-py3-none-any.whl (328 kB)\n",
            "\u001b[2K     \u001b[90m━━━━━━━━━━━━━━━━━━━━━━━━━━━━━━━━━━━━━━━━\u001b[0m \u001b[32m328.7/328.7 kB\u001b[0m \u001b[31m38.1 MB/s\u001b[0m eta \u001b[36m0:00:00\u001b[0m\n",
            "\u001b[?25hCollecting anthropic (from -r /content/drive/MyDrive/HarmBench/requirements_full.txt (line 9))\n",
            "  Downloading anthropic-0.31.2-py3-none-any.whl (865 kB)\n",
            "\u001b[2K     \u001b[90m━━━━━━━━━━━━━━━━━━━━━━━━━━━━━━━━━━━━━━━━\u001b[0m \u001b[32m865.5/865.5 kB\u001b[0m \u001b[31m63.7 MB/s\u001b[0m eta \u001b[36m0:00:00\u001b[0m\n",
            "\u001b[?25hCollecting mistralai (from -r /content/drive/MyDrive/HarmBench/requirements_full.txt (line 10))\n",
            "  Downloading mistralai-0.4.2-py3-none-any.whl (20 kB)\n",
            "Requirement already satisfied: google-generativeai in /usr/local/lib/python3.10/dist-packages (from -r /content/drive/MyDrive/HarmBench/requirements_full.txt (line 11)) (0.5.4)\n",
            "Requirement already satisfied: google-cloud-aiplatform in /usr/local/lib/python3.10/dist-packages (from -r /content/drive/MyDrive/HarmBench/requirements_full.txt (line 12)) (1.59.0)\n",
            "Requirement already satisfied: torchvision in /usr/local/lib/python3.10/dist-packages (from -r /content/drive/MyDrive/HarmBench/requirements_full.txt (line 13)) (0.18.1+cu121)\n",
            "Collecting sentence-transformers (from -r /content/drive/MyDrive/HarmBench/requirements_full.txt (line 14))\n",
            "  Downloading sentence_transformers-3.0.1-py3-none-any.whl (227 kB)\n",
            "\u001b[2K     \u001b[90m━━━━━━━━━━━━━━━━━━━━━━━━━━━━━━━━━━━━━━━━\u001b[0m \u001b[32m227.1/227.1 kB\u001b[0m \u001b[31m27.1 MB/s\u001b[0m eta \u001b[36m0:00:00\u001b[0m\n",
            "\u001b[?25hRequirement already satisfied: matplotlib in /usr/local/lib/python3.10/dist-packages (from -r /content/drive/MyDrive/HarmBench/requirements_full.txt (line 15)) (3.7.1)\n",
            "Requirement already satisfied: accelerate in /usr/local/lib/python3.10/dist-packages (from -r /content/drive/MyDrive/HarmBench/requirements_full.txt (line 16)) (0.32.1)\n",
            "Collecting datasketch (from -r /content/drive/MyDrive/HarmBench/requirements_full.txt (line 17))\n",
            "  Downloading datasketch-1.6.5-py3-none-any.whl (89 kB)\n",
            "\u001b[2K     \u001b[90m━━━━━━━━━━━━━━━━━━━━━━━━━━━━━━━━━━━━━━━━\u001b[0m \u001b[32m89.2/89.2 kB\u001b[0m \u001b[31m13.0 MB/s\u001b[0m eta \u001b[36m0:00:00\u001b[0m\n",
            "\u001b[?25hRequirement already satisfied: pandas in /usr/local/lib/python3.10/dist-packages (from -r /content/drive/MyDrive/HarmBench/requirements_full.txt (line 18)) (2.0.3)\n",
            "Collecting art (from -r /content/drive/MyDrive/HarmBench/requirements_full.txt (line 19))\n",
            "  Downloading art-6.2-py3-none-any.whl (601 kB)\n",
            "\u001b[2K     \u001b[90m━━━━━━━━━━━━━━━━━━━━━━━━━━━━━━━━━━━━━━━━\u001b[0m \u001b[32m601.8/601.8 kB\u001b[0m \u001b[31m46.4 MB/s\u001b[0m eta \u001b[36m0:00:00\u001b[0m\n",
            "\u001b[?25hRequirement already satisfied: tenacity in /usr/local/lib/python3.10/dist-packages (from -r /content/drive/MyDrive/HarmBench/requirements_full.txt (line 20)) (8.5.0)\n",
            "Collecting boto3 (from -r /content/drive/MyDrive/HarmBench/requirements_full.txt (line 21))\n",
            "  Downloading boto3-1.34.145-py3-none-any.whl (139 kB)\n",
            "\u001b[2K     \u001b[90m━━━━━━━━━━━━━━━━━━━━━━━━━━━━━━━━━━━━━━━━\u001b[0m \u001b[32m139.2/139.2 kB\u001b[0m \u001b[31m19.5 MB/s\u001b[0m eta \u001b[36m0:00:00\u001b[0m\n",
            "\u001b[?25hCollecting bpe (from -r /content/drive/MyDrive/HarmBench/requirements_full.txt (line 22))\n",
            "  Downloading bpe-1.0-py3-none-any.whl (6.8 kB)\n",
            "Collecting weave (from -r /content/drive/MyDrive/HarmBench/requirements_full.txt (line 23))\n",
            "  Downloading weave-0.50.10-py3-none-any.whl (29.9 MB)\n",
            "\u001b[2K     \u001b[90m━━━━━━━━━━━━━━━━━━━━━━━━━━━━━━━━━━━━━━━━\u001b[0m \u001b[32m29.9/29.9 MB\u001b[0m \u001b[31m59.1 MB/s\u001b[0m eta \u001b[36m0:00:00\u001b[0m\n",
            "\u001b[?25hCollecting python-json-logger (from -r /content/drive/MyDrive/HarmBench/requirements_full.txt (line 24))\n",
            "  Downloading python_json_logger-2.0.7-py3-none-any.whl (8.1 kB)\n",
            "Requirement already satisfied: click!=8.0.0,>=7.1 in /usr/local/lib/python3.10/dist-packages (from wandb->-r /content/drive/MyDrive/HarmBench/requirements_full.txt (line 1)) (8.1.7)\n",
            "Collecting docker-pycreds>=0.4.0 (from wandb->-r /content/drive/MyDrive/HarmBench/requirements_full.txt (line 1))\n",
            "  Downloading docker_pycreds-0.4.0-py2.py3-none-any.whl (9.0 kB)\n",
            "Collecting gitpython!=3.1.29,>=1.0.0 (from wandb->-r /content/drive/MyDrive/HarmBench/requirements_full.txt (line 1))\n",
            "  Downloading GitPython-3.1.43-py3-none-any.whl (207 kB)\n",
            "\u001b[2K     \u001b[90m━━━━━━━━━━━━━━━━━━━━━━━━━━━━━━━━━━━━━━━━\u001b[0m \u001b[32m207.3/207.3 kB\u001b[0m \u001b[31m28.5 MB/s\u001b[0m eta \u001b[36m0:00:00\u001b[0m\n",
            "\u001b[?25hRequirement already satisfied: platformdirs in /usr/local/lib/python3.10/dist-packages (from wandb->-r /content/drive/MyDrive/HarmBench/requirements_full.txt (line 1)) (4.2.2)\n",
            "Requirement already satisfied: protobuf!=4.21.0,<6,>=3.19.0 in /usr/local/lib/python3.10/dist-packages (from wandb->-r /content/drive/MyDrive/HarmBench/requirements_full.txt (line 1)) (3.20.3)\n",
            "Requirement already satisfied: psutil>=5.0.0 in /usr/local/lib/python3.10/dist-packages (from wandb->-r /content/drive/MyDrive/HarmBench/requirements_full.txt (line 1)) (5.9.5)\n",
            "Requirement already satisfied: pyyaml in /usr/local/lib/python3.10/dist-packages (from wandb->-r /content/drive/MyDrive/HarmBench/requirements_full.txt (line 1)) (6.0.1)\n",
            "Requirement already satisfied: requests<3,>=2.0.0 in /usr/local/lib/python3.10/dist-packages (from wandb->-r /content/drive/MyDrive/HarmBench/requirements_full.txt (line 1)) (2.31.0)\n",
            "Collecting sentry-sdk>=1.0.0 (from wandb->-r /content/drive/MyDrive/HarmBench/requirements_full.txt (line 1))\n",
            "  Downloading sentry_sdk-2.10.0-py2.py3-none-any.whl (302 kB)\n",
            "\u001b[2K     \u001b[90m━━━━━━━━━━━━━━━━━━━━━━━━━━━━━━━━━━━━━━━━\u001b[0m \u001b[32m302.1/302.1 kB\u001b[0m \u001b[31m38.2 MB/s\u001b[0m eta \u001b[36m0:00:00\u001b[0m\n",
            "\u001b[?25hCollecting setproctitle (from wandb->-r /content/drive/MyDrive/HarmBench/requirements_full.txt (line 1))\n",
            "  Downloading setproctitle-1.3.3-cp310-cp310-manylinux_2_5_x86_64.manylinux1_x86_64.manylinux_2_17_x86_64.manylinux2014_x86_64.whl (30 kB)\n",
            "Requirement already satisfied: setuptools in /usr/local/lib/python3.10/dist-packages (from wandb->-r /content/drive/MyDrive/HarmBench/requirements_full.txt (line 1)) (67.7.2)\n",
            "Requirement already satisfied: spacy-legacy<3.1.0,>=3.0.11 in /usr/local/lib/python3.10/dist-packages (from spacy->-r /content/drive/MyDrive/HarmBench/requirements_full.txt (line 2)) (3.0.12)\n",
            "Requirement already satisfied: spacy-loggers<2.0.0,>=1.0.0 in /usr/local/lib/python3.10/dist-packages (from spacy->-r /content/drive/MyDrive/HarmBench/requirements_full.txt (line 2)) (1.0.5)\n",
            "Requirement already satisfied: murmurhash<1.1.0,>=0.28.0 in /usr/local/lib/python3.10/dist-packages (from spacy->-r /content/drive/MyDrive/HarmBench/requirements_full.txt (line 2)) (1.0.10)\n",
            "Requirement already satisfied: cymem<2.1.0,>=2.0.2 in /usr/local/lib/python3.10/dist-packages (from spacy->-r /content/drive/MyDrive/HarmBench/requirements_full.txt (line 2)) (2.0.8)\n",
            "Requirement already satisfied: preshed<3.1.0,>=3.0.2 in /usr/local/lib/python3.10/dist-packages (from spacy->-r /content/drive/MyDrive/HarmBench/requirements_full.txt (line 2)) (3.0.9)\n",
            "Requirement already satisfied: thinc<8.3.0,>=8.2.2 in /usr/local/lib/python3.10/dist-packages (from spacy->-r /content/drive/MyDrive/HarmBench/requirements_full.txt (line 2)) (8.2.5)\n",
            "Requirement already satisfied: wasabi<1.2.0,>=0.9.1 in /usr/local/lib/python3.10/dist-packages (from spacy->-r /content/drive/MyDrive/HarmBench/requirements_full.txt (line 2)) (1.1.3)\n",
            "Requirement already satisfied: srsly<3.0.0,>=2.4.3 in /usr/local/lib/python3.10/dist-packages (from spacy->-r /content/drive/MyDrive/HarmBench/requirements_full.txt (line 2)) (2.4.8)\n",
            "Requirement already satisfied: catalogue<2.1.0,>=2.0.6 in /usr/local/lib/python3.10/dist-packages (from spacy->-r /content/drive/MyDrive/HarmBench/requirements_full.txt (line 2)) (2.0.10)\n",
            "Requirement already satisfied: weasel<0.5.0,>=0.1.0 in /usr/local/lib/python3.10/dist-packages (from spacy->-r /content/drive/MyDrive/HarmBench/requirements_full.txt (line 2)) (0.4.1)\n",
            "Requirement already satisfied: typer<1.0.0,>=0.3.0 in /usr/local/lib/python3.10/dist-packages (from spacy->-r /content/drive/MyDrive/HarmBench/requirements_full.txt (line 2)) (0.12.3)\n",
            "Requirement already satisfied: tqdm<5.0.0,>=4.38.0 in /usr/local/lib/python3.10/dist-packages (from spacy->-r /content/drive/MyDrive/HarmBench/requirements_full.txt (line 2)) (4.66.4)\n",
            "Requirement already satisfied: pydantic!=1.8,!=1.8.1,<3.0.0,>=1.7.4 in /usr/local/lib/python3.10/dist-packages (from spacy->-r /content/drive/MyDrive/HarmBench/requirements_full.txt (line 2)) (2.8.2)\n",
            "Requirement already satisfied: jinja2 in /usr/local/lib/python3.10/dist-packages (from spacy->-r /content/drive/MyDrive/HarmBench/requirements_full.txt (line 2)) (3.1.4)\n",
            "Requirement already satisfied: packaging>=20.0 in /usr/local/lib/python3.10/dist-packages (from spacy->-r /content/drive/MyDrive/HarmBench/requirements_full.txt (line 2)) (24.1)\n",
            "Requirement already satisfied: langcodes<4.0.0,>=3.2.0 in /usr/local/lib/python3.10/dist-packages (from spacy->-r /content/drive/MyDrive/HarmBench/requirements_full.txt (line 2)) (3.4.0)\n",
            "Requirement already satisfied: numpy>=1.19.0 in /usr/local/lib/python3.10/dist-packages (from spacy->-r /content/drive/MyDrive/HarmBench/requirements_full.txt (line 2)) (1.25.2)\n",
            "Requirement already satisfied: aiohttp in /usr/local/lib/python3.10/dist-packages (from vllm>=0.3.0->-r /content/drive/MyDrive/HarmBench/requirements_full.txt (line 4)) (3.9.5)\n",
            "Requirement already satisfied: cmake>=3.21 in /usr/local/lib/python3.10/dist-packages (from vllm>=0.3.0->-r /content/drive/MyDrive/HarmBench/requirements_full.txt (line 4)) (3.27.9)\n",
            "Collecting fastapi (from vllm>=0.3.0->-r /content/drive/MyDrive/HarmBench/requirements_full.txt (line 4))\n",
            "  Downloading fastapi-0.111.1-py3-none-any.whl (92 kB)\n",
            "\u001b[2K     \u001b[90m━━━━━━━━━━━━━━━━━━━━━━━━━━━━━━━━━━━━━━━━\u001b[0m \u001b[32m92.2/92.2 kB\u001b[0m \u001b[31m14.8 MB/s\u001b[0m eta \u001b[36m0:00:00\u001b[0m\n",
            "\u001b[?25hRequirement already satisfied: filelock>=3.10.4 in /usr/local/lib/python3.10/dist-packages (from vllm>=0.3.0->-r /content/drive/MyDrive/HarmBench/requirements_full.txt (line 4)) (3.15.4)\n",
            "Collecting lm-format-enforcer==0.10.3 (from vllm>=0.3.0->-r /content/drive/MyDrive/HarmBench/requirements_full.txt (line 4))\n",
            "  Downloading lm_format_enforcer-0.10.3-py3-none-any.whl (43 kB)\n",
            "\u001b[2K     \u001b[90m━━━━━━━━━━━━━━━━━━━━━━━━━━━━━━━━━━━━━━━━\u001b[0m \u001b[32m43.1/43.1 kB\u001b[0m \u001b[31m6.4 MB/s\u001b[0m eta \u001b[36m0:00:00\u001b[0m\n",
            "\u001b[?25hCollecting ninja (from vllm>=0.3.0->-r /content/drive/MyDrive/HarmBench/requirements_full.txt (line 4))\n",
            "  Downloading ninja-1.11.1.1-py2.py3-none-manylinux1_x86_64.manylinux_2_5_x86_64.whl (307 kB)\n",
            "\u001b[2K     \u001b[90m━━━━━━━━━━━━━━━━━━━━━━━━━━━━━━━━━━━━━━━━\u001b[0m \u001b[32m307.2/307.2 kB\u001b[0m \u001b[31m38.1 MB/s\u001b[0m eta \u001b[36m0:00:00\u001b[0m\n",
            "\u001b[?25hCollecting nvidia-ml-py (from vllm>=0.3.0->-r /content/drive/MyDrive/HarmBench/requirements_full.txt (line 4))\n",
            "  Downloading nvidia_ml_py-12.555.43-py3-none-any.whl (39 kB)\n",
            "Collecting outlines<0.1,>=0.0.43 (from vllm>=0.3.0->-r /content/drive/MyDrive/HarmBench/requirements_full.txt (line 4))\n",
            "  Downloading outlines-0.0.46-py3-none-any.whl (101 kB)\n",
            "\u001b[2K     \u001b[90m━━━━━━━━━━━━━━━━━━━━━━━━━━━━━━━━━━━━━━━━\u001b[0m \u001b[32m101.9/101.9 kB\u001b[0m \u001b[31m15.9 MB/s\u001b[0m eta \u001b[36m0:00:00\u001b[0m\n",
            "\u001b[?25hRequirement already satisfied: pillow in /usr/local/lib/python3.10/dist-packages (from vllm>=0.3.0->-r /content/drive/MyDrive/HarmBench/requirements_full.txt (line 4)) (9.4.0)\n",
            "Collecting prometheus-fastapi-instrumentator>=7.0.0 (from vllm>=0.3.0->-r /content/drive/MyDrive/HarmBench/requirements_full.txt (line 4))\n",
            "  Downloading prometheus_fastapi_instrumentator-7.0.0-py3-none-any.whl (19 kB)\n",
            "Requirement already satisfied: prometheus-client>=0.18.0 in /usr/local/lib/python3.10/dist-packages (from vllm>=0.3.0->-r /content/drive/MyDrive/HarmBench/requirements_full.txt (line 4)) (0.20.0)\n",
            "Requirement already satisfied: py-cpuinfo in /usr/local/lib/python3.10/dist-packages (from vllm>=0.3.0->-r /content/drive/MyDrive/HarmBench/requirements_full.txt (line 4)) (9.0.0)\n",
            "Requirement already satisfied: pyzmq in /usr/local/lib/python3.10/dist-packages (from vllm>=0.3.0->-r /content/drive/MyDrive/HarmBench/requirements_full.txt (line 4)) (24.0.1)\n",
            "Requirement already satisfied: sentencepiece in /usr/local/lib/python3.10/dist-packages (from vllm>=0.3.0->-r /content/drive/MyDrive/HarmBench/requirements_full.txt (line 4)) (0.1.99)\n",
            "Collecting tiktoken>=0.6.0 (from vllm>=0.3.0->-r /content/drive/MyDrive/HarmBench/requirements_full.txt (line 4))\n",
            "  Downloading tiktoken-0.7.0-cp310-cp310-manylinux_2_17_x86_64.manylinux2014_x86_64.whl (1.1 MB)\n",
            "\u001b[2K     \u001b[90m━━━━━━━━━━━━━━━━━━━━━━━━━━━━━━━━━━━━━━━━\u001b[0m \u001b[32m1.1/1.1 MB\u001b[0m \u001b[31m79.3 MB/s\u001b[0m eta \u001b[36m0:00:00\u001b[0m\n",
            "\u001b[?25hRequirement already satisfied: tokenizers>=0.19.1 in /usr/local/lib/python3.10/dist-packages (from vllm>=0.3.0->-r /content/drive/MyDrive/HarmBench/requirements_full.txt (line 4)) (0.19.1)\n",
            "Requirement already satisfied: torch==2.3.1 in /usr/local/lib/python3.10/dist-packages (from vllm>=0.3.0->-r /content/drive/MyDrive/HarmBench/requirements_full.txt (line 4)) (2.3.1+cu121)\n",
            "Requirement already satisfied: typing-extensions in /usr/local/lib/python3.10/dist-packages (from vllm>=0.3.0->-r /content/drive/MyDrive/HarmBench/requirements_full.txt (line 4)) (4.12.2)\n",
            "Collecting uvicorn[standard] (from vllm>=0.3.0->-r /content/drive/MyDrive/HarmBench/requirements_full.txt (line 4))\n",
            "  Downloading uvicorn-0.30.1-py3-none-any.whl (62 kB)\n",
            "\u001b[2K     \u001b[90m━━━━━━━━━━━━━━━━━━━━━━━━━━━━━━━━━━━━━━━━\u001b[0m \u001b[32m62.4/62.4 kB\u001b[0m \u001b[31m10.3 MB/s\u001b[0m eta \u001b[36m0:00:00\u001b[0m\n",
            "\u001b[?25hCollecting vllm-flash-attn==2.5.9.post1 (from vllm>=0.3.0->-r /content/drive/MyDrive/HarmBench/requirements_full.txt (line 4))\n",
            "  Downloading vllm_flash_attn-2.5.9.post1-cp310-cp310-manylinux1_x86_64.whl (37.1 MB)\n",
            "\u001b[2K     \u001b[90m━━━━━━━━━━━━━━━━━━━━━━━━━━━━━━━━━━━━━━━━\u001b[0m \u001b[32m37.1/37.1 MB\u001b[0m \u001b[31m48.0 MB/s\u001b[0m eta \u001b[36m0:00:00\u001b[0m\n",
            "\u001b[?25hCollecting xformers==0.0.27 (from vllm>=0.3.0->-r /content/drive/MyDrive/HarmBench/requirements_full.txt (line 4))\n",
            "  Downloading xformers-0.0.27-cp310-cp310-manylinux2014_x86_64.whl (164.1 MB)\n",
            "\u001b[2K     \u001b[90m━━━━━━━━━━━━━━━━━━━━━━━━━━━━━━━━━━━━━━━━\u001b[0m \u001b[32m164.1/164.1 MB\u001b[0m \u001b[31m7.7 MB/s\u001b[0m eta \u001b[36m0:00:00\u001b[0m\n",
            "\u001b[?25hCollecting interegular>=0.3.2 (from lm-format-enforcer==0.10.3->vllm>=0.3.0->-r /content/drive/MyDrive/HarmBench/requirements_full.txt (line 4))\n",
            "  Downloading interegular-0.3.3-py37-none-any.whl (23 kB)\n",
            "Requirement already satisfied: sympy in /usr/local/lib/python3.10/dist-packages (from torch==2.3.1->vllm>=0.3.0->-r /content/drive/MyDrive/HarmBench/requirements_full.txt (line 4)) (1.13.0)\n",
            "Requirement already satisfied: networkx in /usr/local/lib/python3.10/dist-packages (from torch==2.3.1->vllm>=0.3.0->-r /content/drive/MyDrive/HarmBench/requirements_full.txt (line 4)) (3.3)\n",
            "Requirement already satisfied: fsspec in /usr/local/lib/python3.10/dist-packages (from torch==2.3.1->vllm>=0.3.0->-r /content/drive/MyDrive/HarmBench/requirements_full.txt (line 4)) (2023.6.0)\n",
            "Collecting nvidia-cuda-nvrtc-cu12==12.1.105 (from torch==2.3.1->vllm>=0.3.0->-r /content/drive/MyDrive/HarmBench/requirements_full.txt (line 4))\n",
            "  Using cached nvidia_cuda_nvrtc_cu12-12.1.105-py3-none-manylinux1_x86_64.whl (23.7 MB)\n",
            "Collecting nvidia-cuda-runtime-cu12==12.1.105 (from torch==2.3.1->vllm>=0.3.0->-r /content/drive/MyDrive/HarmBench/requirements_full.txt (line 4))\n",
            "  Using cached nvidia_cuda_runtime_cu12-12.1.105-py3-none-manylinux1_x86_64.whl (823 kB)\n",
            "Collecting nvidia-cuda-cupti-cu12==12.1.105 (from torch==2.3.1->vllm>=0.3.0->-r /content/drive/MyDrive/HarmBench/requirements_full.txt (line 4))\n",
            "  Using cached nvidia_cuda_cupti_cu12-12.1.105-py3-none-manylinux1_x86_64.whl (14.1 MB)\n",
            "Collecting nvidia-cudnn-cu12==8.9.2.26 (from torch==2.3.1->vllm>=0.3.0->-r /content/drive/MyDrive/HarmBench/requirements_full.txt (line 4))\n",
            "  Using cached nvidia_cudnn_cu12-8.9.2.26-py3-none-manylinux1_x86_64.whl (731.7 MB)\n",
            "Collecting nvidia-cublas-cu12==12.1.3.1 (from torch==2.3.1->vllm>=0.3.0->-r /content/drive/MyDrive/HarmBench/requirements_full.txt (line 4))\n",
            "  Using cached nvidia_cublas_cu12-12.1.3.1-py3-none-manylinux1_x86_64.whl (410.6 MB)\n",
            "Collecting nvidia-cufft-cu12==11.0.2.54 (from torch==2.3.1->vllm>=0.3.0->-r /content/drive/MyDrive/HarmBench/requirements_full.txt (line 4))\n",
            "  Using cached nvidia_cufft_cu12-11.0.2.54-py3-none-manylinux1_x86_64.whl (121.6 MB)\n",
            "Collecting nvidia-curand-cu12==10.3.2.106 (from torch==2.3.1->vllm>=0.3.0->-r /content/drive/MyDrive/HarmBench/requirements_full.txt (line 4))\n",
            "  Using cached nvidia_curand_cu12-10.3.2.106-py3-none-manylinux1_x86_64.whl (56.5 MB)\n",
            "Collecting nvidia-cusolver-cu12==11.4.5.107 (from torch==2.3.1->vllm>=0.3.0->-r /content/drive/MyDrive/HarmBench/requirements_full.txt (line 4))\n",
            "  Using cached nvidia_cusolver_cu12-11.4.5.107-py3-none-manylinux1_x86_64.whl (124.2 MB)\n",
            "Collecting nvidia-cusparse-cu12==12.1.0.106 (from torch==2.3.1->vllm>=0.3.0->-r /content/drive/MyDrive/HarmBench/requirements_full.txt (line 4))\n",
            "  Using cached nvidia_cusparse_cu12-12.1.0.106-py3-none-manylinux1_x86_64.whl (196.0 MB)\n",
            "Collecting nvidia-nccl-cu12==2.20.5 (from torch==2.3.1->vllm>=0.3.0->-r /content/drive/MyDrive/HarmBench/requirements_full.txt (line 4))\n",
            "  Using cached nvidia_nccl_cu12-2.20.5-py3-none-manylinux2014_x86_64.whl (176.2 MB)\n",
            "Collecting nvidia-nvtx-cu12==12.1.105 (from torch==2.3.1->vllm>=0.3.0->-r /content/drive/MyDrive/HarmBench/requirements_full.txt (line 4))\n",
            "  Using cached nvidia_nvtx_cu12-12.1.105-py3-none-manylinux1_x86_64.whl (99 kB)\n",
            "Requirement already satisfied: triton==2.3.1 in /usr/local/lib/python3.10/dist-packages (from torch==2.3.1->vllm>=0.3.0->-r /content/drive/MyDrive/HarmBench/requirements_full.txt (line 4)) (2.3.1)\n",
            "Collecting nvidia-nvjitlink-cu12 (from nvidia-cusolver-cu12==11.4.5.107->torch==2.3.1->vllm>=0.3.0->-r /content/drive/MyDrive/HarmBench/requirements_full.txt (line 4))\n",
            "  Downloading nvidia_nvjitlink_cu12-12.5.82-py3-none-manylinux2014_x86_64.whl (21.3 MB)\n",
            "\u001b[2K     \u001b[90m━━━━━━━━━━━━━━━━━━━━━━━━━━━━━━━━━━━━━━━━\u001b[0m \u001b[32m21.3/21.3 MB\u001b[0m \u001b[31m75.7 MB/s\u001b[0m eta \u001b[36m0:00:00\u001b[0m\n",
            "\u001b[?25hRequirement already satisfied: huggingface-hub<1.0,>=0.23.2 in /usr/local/lib/python3.10/dist-packages (from transformers->-r /content/drive/MyDrive/HarmBench/requirements_full.txt (line 5)) (0.23.5)\n",
            "Requirement already satisfied: regex!=2019.12.17 in /usr/local/lib/python3.10/dist-packages (from transformers->-r /content/drive/MyDrive/HarmBench/requirements_full.txt (line 5)) (2024.5.15)\n",
            "Requirement already satisfied: safetensors>=0.4.1 in /usr/local/lib/python3.10/dist-packages (from transformers->-r /content/drive/MyDrive/HarmBench/requirements_full.txt (line 5)) (0.4.3)\n",
            "Collecting httpx (from fschat->-r /content/drive/MyDrive/HarmBench/requirements_full.txt (line 6))\n",
            "  Downloading httpx-0.27.0-py3-none-any.whl (75 kB)\n",
            "\u001b[2K     \u001b[90m━━━━━━━━━━━━━━━━━━━━━━━━━━━━━━━━━━━━━━━━\u001b[0m \u001b[32m75.6/75.6 kB\u001b[0m \u001b[31m11.4 MB/s\u001b[0m eta \u001b[36m0:00:00\u001b[0m\n",
            "\u001b[?25hCollecting markdown2[all] (from fschat->-r /content/drive/MyDrive/HarmBench/requirements_full.txt (line 6))\n",
            "  Downloading markdown2-2.5.0-py2.py3-none-any.whl (47 kB)\n",
            "\u001b[2K     \u001b[90m━━━━━━━━━━━━━━━━━━━━━━━━━━━━━━━━━━━━━━━━\u001b[0m \u001b[32m47.2/47.2 kB\u001b[0m \u001b[31m6.9 MB/s\u001b[0m eta \u001b[36m0:00:00\u001b[0m\n",
            "\u001b[?25hCollecting nh3 (from fschat->-r /content/drive/MyDrive/HarmBench/requirements_full.txt (line 6))\n",
            "  Downloading nh3-0.2.18-cp37-abi3-manylinux_2_17_x86_64.manylinux2014_x86_64.whl (769 kB)\n",
            "\u001b[2K     \u001b[90m━━━━━━━━━━━━━━━━━━━━━━━━━━━━━━━━━━━━━━━━\u001b[0m \u001b[32m769.2/769.2 kB\u001b[0m \u001b[31m69.5 MB/s\u001b[0m eta \u001b[36m0:00:00\u001b[0m\n",
            "\u001b[?25hRequirement already satisfied: prompt-toolkit>=3.0.0 in /usr/local/lib/python3.10/dist-packages (from fschat->-r /content/drive/MyDrive/HarmBench/requirements_full.txt (line 6)) (3.0.47)\n",
            "Requirement already satisfied: rich>=10.0.0 in /usr/local/lib/python3.10/dist-packages (from fschat->-r /content/drive/MyDrive/HarmBench/requirements_full.txt (line 6)) (13.7.1)\n",
            "Collecting shortuuid (from fschat->-r /content/drive/MyDrive/HarmBench/requirements_full.txt (line 6))\n",
            "  Downloading shortuuid-1.0.13-py3-none-any.whl (10 kB)\n",
            "Requirement already satisfied: jsonschema in /usr/local/lib/python3.10/dist-packages (from ray->-r /content/drive/MyDrive/HarmBench/requirements_full.txt (line 7)) (4.19.2)\n",
            "Requirement already satisfied: msgpack<2.0.0,>=1.0.0 in /usr/local/lib/python3.10/dist-packages (from ray->-r /content/drive/MyDrive/HarmBench/requirements_full.txt (line 7)) (1.0.8)\n",
            "Requirement already satisfied: aiosignal in /usr/local/lib/python3.10/dist-packages (from ray->-r /content/drive/MyDrive/HarmBench/requirements_full.txt (line 7)) (1.3.1)\n",
            "Requirement already satisfied: frozenlist in /usr/local/lib/python3.10/dist-packages (from ray->-r /content/drive/MyDrive/HarmBench/requirements_full.txt (line 7)) (1.4.1)\n",
            "Requirement already satisfied: anyio<5,>=3.5.0 in /usr/local/lib/python3.10/dist-packages (from openai>=1.25.1->-r /content/drive/MyDrive/HarmBench/requirements_full.txt (line 8)) (3.7.1)\n",
            "Requirement already satisfied: distro<2,>=1.7.0 in /usr/lib/python3/dist-packages (from openai>=1.25.1->-r /content/drive/MyDrive/HarmBench/requirements_full.txt (line 8)) (1.7.0)\n",
            "Requirement already satisfied: sniffio in /usr/local/lib/python3.10/dist-packages (from openai>=1.25.1->-r /content/drive/MyDrive/HarmBench/requirements_full.txt (line 8)) (1.3.1)\n",
            "Collecting jiter<1,>=0.4.0 (from anthropic->-r /content/drive/MyDrive/HarmBench/requirements_full.txt (line 9))\n",
            "  Downloading jiter-0.5.0-cp310-cp310-manylinux_2_17_x86_64.manylinux2014_x86_64.whl (318 kB)\n",
            "\u001b[2K     \u001b[90m━━━━━━━━━━━━━━━━━━━━━━━━━━━━━━━━━━━━━━━━\u001b[0m \u001b[32m318.9/318.9 kB\u001b[0m \u001b[31m38.3 MB/s\u001b[0m eta \u001b[36m0:00:00\u001b[0m\n",
            "\u001b[?25hCollecting orjson<3.11,>=3.9.10 (from mistralai->-r /content/drive/MyDrive/HarmBench/requirements_full.txt (line 10))\n",
            "  Downloading orjson-3.10.6-cp310-cp310-manylinux_2_17_x86_64.manylinux2014_x86_64.whl (141 kB)\n",
            "\u001b[2K     \u001b[90m━━━━━━━━━━━━━━━━━━━━━━━━━━━━━━━━━━━━━━━━\u001b[0m \u001b[32m141.1/141.1 kB\u001b[0m \u001b[31m19.4 MB/s\u001b[0m eta \u001b[36m0:00:00\u001b[0m\n",
            "\u001b[?25hRequirement already satisfied: google-ai-generativelanguage==0.6.4 in /usr/local/lib/python3.10/dist-packages (from google-generativeai->-r /content/drive/MyDrive/HarmBench/requirements_full.txt (line 11)) (0.6.4)\n",
            "Requirement already satisfied: google-api-core in /usr/local/lib/python3.10/dist-packages (from google-generativeai->-r /content/drive/MyDrive/HarmBench/requirements_full.txt (line 11)) (2.16.2)\n",
            "Requirement already satisfied: google-api-python-client in /usr/local/lib/python3.10/dist-packages (from google-generativeai->-r /content/drive/MyDrive/HarmBench/requirements_full.txt (line 11)) (2.84.0)\n",
            "Requirement already satisfied: google-auth>=2.15.0 in /usr/local/lib/python3.10/dist-packages (from google-generativeai->-r /content/drive/MyDrive/HarmBench/requirements_full.txt (line 11)) (2.27.0)\n",
            "Requirement already satisfied: proto-plus<2.0.0dev,>=1.22.3 in /usr/local/lib/python3.10/dist-packages (from google-ai-generativelanguage==0.6.4->google-generativeai->-r /content/drive/MyDrive/HarmBench/requirements_full.txt (line 11)) (1.24.0)\n",
            "Requirement already satisfied: google-cloud-storage<3.0.0dev,>=1.32.0 in /usr/local/lib/python3.10/dist-packages (from google-cloud-aiplatform->-r /content/drive/MyDrive/HarmBench/requirements_full.txt (line 12)) (2.8.0)\n",
            "Requirement already satisfied: google-cloud-bigquery!=3.20.0,<4.0.0dev,>=1.15.0 in /usr/local/lib/python3.10/dist-packages (from google-cloud-aiplatform->-r /content/drive/MyDrive/HarmBench/requirements_full.txt (line 12)) (3.21.0)\n",
            "Requirement already satisfied: google-cloud-resource-manager<3.0.0dev,>=1.3.3 in /usr/local/lib/python3.10/dist-packages (from google-cloud-aiplatform->-r /content/drive/MyDrive/HarmBench/requirements_full.txt (line 12)) (1.12.4)\n",
            "Requirement already satisfied: shapely<3.0.0dev in /usr/local/lib/python3.10/dist-packages (from google-cloud-aiplatform->-r /content/drive/MyDrive/HarmBench/requirements_full.txt (line 12)) (2.0.5)\n",
            "Requirement already satisfied: docstring-parser<1 in /usr/local/lib/python3.10/dist-packages (from google-cloud-aiplatform->-r /content/drive/MyDrive/HarmBench/requirements_full.txt (line 12)) (0.16)\n",
            "Requirement already satisfied: scikit-learn in /usr/local/lib/python3.10/dist-packages (from sentence-transformers->-r /content/drive/MyDrive/HarmBench/requirements_full.txt (line 14)) (1.2.2)\n",
            "Requirement already satisfied: scipy in /usr/local/lib/python3.10/dist-packages (from sentence-transformers->-r /content/drive/MyDrive/HarmBench/requirements_full.txt (line 14)) (1.11.4)\n",
            "Requirement already satisfied: contourpy>=1.0.1 in /usr/local/lib/python3.10/dist-packages (from matplotlib->-r /content/drive/MyDrive/HarmBench/requirements_full.txt (line 15)) (1.2.1)\n",
            "Requirement already satisfied: cycler>=0.10 in /usr/local/lib/python3.10/dist-packages (from matplotlib->-r /content/drive/MyDrive/HarmBench/requirements_full.txt (line 15)) (0.12.1)\n",
            "Requirement already satisfied: fonttools>=4.22.0 in /usr/local/lib/python3.10/dist-packages (from matplotlib->-r /content/drive/MyDrive/HarmBench/requirements_full.txt (line 15)) (4.53.1)\n",
            "Requirement already satisfied: kiwisolver>=1.0.1 in /usr/local/lib/python3.10/dist-packages (from matplotlib->-r /content/drive/MyDrive/HarmBench/requirements_full.txt (line 15)) (1.4.5)\n",
            "Requirement already satisfied: pyparsing>=2.3.1 in /usr/local/lib/python3.10/dist-packages (from matplotlib->-r /content/drive/MyDrive/HarmBench/requirements_full.txt (line 15)) (3.1.2)\n",
            "Requirement already satisfied: python-dateutil>=2.7 in /usr/local/lib/python3.10/dist-packages (from matplotlib->-r /content/drive/MyDrive/HarmBench/requirements_full.txt (line 15)) (2.8.2)\n",
            "Requirement already satisfied: pytz>=2020.1 in /usr/local/lib/python3.10/dist-packages (from pandas->-r /content/drive/MyDrive/HarmBench/requirements_full.txt (line 18)) (2023.4)\n",
            "Requirement already satisfied: tzdata>=2022.1 in /usr/local/lib/python3.10/dist-packages (from pandas->-r /content/drive/MyDrive/HarmBench/requirements_full.txt (line 18)) (2024.1)\n",
            "Collecting botocore<1.35.0,>=1.34.145 (from boto3->-r /content/drive/MyDrive/HarmBench/requirements_full.txt (line 21))\n",
            "  Downloading botocore-1.34.145-py3-none-any.whl (12.4 MB)\n",
            "\u001b[2K     \u001b[90m━━━━━━━━━━━━━━━━━━━━━━━━━━━━━━━━━━━━━━━━\u001b[0m \u001b[32m12.4/12.4 MB\u001b[0m \u001b[31m114.4 MB/s\u001b[0m eta \u001b[36m0:00:00\u001b[0m\n",
            "\u001b[?25hCollecting jmespath<2.0.0,>=0.7.1 (from boto3->-r /content/drive/MyDrive/HarmBench/requirements_full.txt (line 21))\n",
            "  Downloading jmespath-1.0.1-py3-none-any.whl (20 kB)\n",
            "Collecting s3transfer<0.11.0,>=0.10.0 (from boto3->-r /content/drive/MyDrive/HarmBench/requirements_full.txt (line 21))\n",
            "  Downloading s3transfer-0.10.2-py3-none-any.whl (82 kB)\n",
            "\u001b[2K     \u001b[90m━━━━━━━━━━━━━━━━━━━━━━━━━━━━━━━━━━━━━━━━\u001b[0m \u001b[32m82.7/82.7 kB\u001b[0m \u001b[31m12.2 MB/s\u001b[0m eta \u001b[36m0:00:00\u001b[0m\n",
            "\u001b[?25hRequirement already satisfied: nltk in /usr/local/lib/python3.10/dist-packages (from bpe->-r /content/drive/MyDrive/HarmBench/requirements_full.txt (line 22)) (3.8.1)\n",
            "Requirement already satisfied: pytest in /usr/local/lib/python3.10/dist-packages (from bpe->-r /content/drive/MyDrive/HarmBench/requirements_full.txt (line 22)) (7.4.4)\n",
            "Collecting hypothesis (from bpe->-r /content/drive/MyDrive/HarmBench/requirements_full.txt (line 22))\n",
            "  Downloading hypothesis-6.108.2-py3-none-any.whl (465 kB)\n",
            "\u001b[2K     \u001b[90m━━━━━━━━━━━━━━━━━━━━━━━━━━━━━━━━━━━━━━━━\u001b[0m \u001b[32m465.2/465.2 kB\u001b[0m \u001b[31m373.5 kB/s\u001b[0m eta \u001b[36m0:00:00\u001b[0m\n",
            "\u001b[?25hRequirement already satisfied: toolz in /usr/local/lib/python3.10/dist-packages (from bpe->-r /content/drive/MyDrive/HarmBench/requirements_full.txt (line 22)) (0.12.1)\n",
            "Collecting mypy (from bpe->-r /content/drive/MyDrive/HarmBench/requirements_full.txt (line 22))\n",
            "  Downloading mypy-1.10.1-cp310-cp310-manylinux_2_17_x86_64.manylinux2014_x86_64.whl (12.7 MB)\n",
            "\u001b[2K     \u001b[90m━━━━━━━━━━━━━━━━━━━━━━━━━━━━━━━━━━━━━━━━\u001b[0m \u001b[32m12.7/12.7 MB\u001b[0m \u001b[31m109.5 MB/s\u001b[0m eta \u001b[36m0:00:00\u001b[0m\n",
            "\u001b[?25hRequirement already satisfied: pyarrow>=14.0.1 in /usr/local/lib/python3.10/dist-packages (from weave->-r /content/drive/MyDrive/HarmBench/requirements_full.txt (line 23)) (14.0.2)\n",
            "Collecting aiofiles>=22.1.0 (from weave->-r /content/drive/MyDrive/HarmBench/requirements_full.txt (line 23))\n",
            "  Downloading aiofiles-24.1.0-py3-none-any.whl (15 kB)\n",
            "Collecting aioprocessing>=2.0.1 (from weave->-r /content/drive/MyDrive/HarmBench/requirements_full.txt (line 23))\n",
            "  Downloading aioprocessing-2.0.1-py3-none-any.whl (14 kB)\n",
            "Requirement already satisfied: Werkzeug>=3.0.3 in /usr/local/lib/python3.10/dist-packages (from weave->-r /content/drive/MyDrive/HarmBench/requirements_full.txt (line 23)) (3.0.3)\n",
            "Collecting janus>=1.0.0 (from weave->-r /content/drive/MyDrive/HarmBench/requirements_full.txt (line 23))\n",
            "  Downloading janus-1.0.0-py3-none-any.whl (6.9 kB)\n",
            "Collecting graphql-core>3 (from weave->-r /content/drive/MyDrive/HarmBench/requirements_full.txt (line 23))\n",
            "  Downloading graphql_core-3.2.3-py3-none-any.whl (202 kB)\n",
            "\u001b[2K     \u001b[90m━━━━━━━━━━━━━━━━━━━━━━━━━━━━━━━━━━━━━━━━\u001b[0m \u001b[32m202.9/202.9 kB\u001b[0m \u001b[31m26.3 MB/s\u001b[0m eta \u001b[36m0:00:00\u001b[0m\n",
            "\u001b[?25hCollecting gql[requests]>=3.4.1 (from weave->-r /content/drive/MyDrive/HarmBench/requirements_full.txt (line 23))\n",
            "  Downloading gql-3.5.0-py2.py3-none-any.whl (74 kB)\n",
            "\u001b[2K     \u001b[90m━━━━━━━━━━━━━━━━━━━━━━━━━━━━━━━━━━━━━━━━\u001b[0m \u001b[32m74.0/74.0 kB\u001b[0m \u001b[31m11.1 MB/s\u001b[0m eta \u001b[36m0:00:00\u001b[0m\n",
            "\u001b[?25hCollecting analytics-python>=1.2.9 (from weave->-r /content/drive/MyDrive/HarmBench/requirements_full.txt (line 23))\n",
            "  Downloading analytics_python-1.4.post1-py2.py3-none-any.whl (23 kB)\n",
            "Collecting emoji>=2.12.1 (from weave->-r /content/drive/MyDrive/HarmBench/requirements_full.txt (line 23))\n",
            "  Downloading emoji-2.12.1-py3-none-any.whl (431 kB)\n",
            "\u001b[2K     \u001b[90m━━━━━━━━━━━━━━━━━━━━━━━━━━━━━━━━━━━━━━━━\u001b[0m \u001b[32m431.4/431.4 kB\u001b[0m \u001b[31m49.9 MB/s\u001b[0m eta \u001b[36m0:00:00\u001b[0m\n",
            "\u001b[?25hRequirement already satisfied: attrs>=17.3.0 in /usr/local/lib/python3.10/dist-packages (from aiohttp->vllm>=0.3.0->-r /content/drive/MyDrive/HarmBench/requirements_full.txt (line 4)) (23.2.0)\n",
            "Requirement already satisfied: multidict<7.0,>=4.5 in /usr/local/lib/python3.10/dist-packages (from aiohttp->vllm>=0.3.0->-r /content/drive/MyDrive/HarmBench/requirements_full.txt (line 4)) (6.0.5)\n",
            "Requirement already satisfied: yarl<2.0,>=1.0 in /usr/local/lib/python3.10/dist-packages (from aiohttp->vllm>=0.3.0->-r /content/drive/MyDrive/HarmBench/requirements_full.txt (line 4)) (1.9.4)\n",
            "Requirement already satisfied: async-timeout<5.0,>=4.0 in /usr/local/lib/python3.10/dist-packages (from aiohttp->vllm>=0.3.0->-r /content/drive/MyDrive/HarmBench/requirements_full.txt (line 4)) (4.0.3)\n",
            "Requirement already satisfied: six>=1.5 in /usr/local/lib/python3.10/dist-packages (from analytics-python>=1.2.9->weave->-r /content/drive/MyDrive/HarmBench/requirements_full.txt (line 23)) (1.16.0)\n",
            "Collecting monotonic>=1.5 (from analytics-python>=1.2.9->weave->-r /content/drive/MyDrive/HarmBench/requirements_full.txt (line 23))\n",
            "  Downloading monotonic-1.6-py2.py3-none-any.whl (8.2 kB)\n",
            "Collecting backoff==1.10.0 (from analytics-python>=1.2.9->weave->-r /content/drive/MyDrive/HarmBench/requirements_full.txt (line 23))\n",
            "  Downloading backoff-1.10.0-py2.py3-none-any.whl (31 kB)\n",
            "Requirement already satisfied: idna>=2.8 in /usr/local/lib/python3.10/dist-packages (from anyio<5,>=3.5.0->openai>=1.25.1->-r /content/drive/MyDrive/HarmBench/requirements_full.txt (line 8)) (3.7)\n",
            "Requirement already satisfied: exceptiongroup in /usr/local/lib/python3.10/dist-packages (from anyio<5,>=3.5.0->openai>=1.25.1->-r /content/drive/MyDrive/HarmBench/requirements_full.txt (line 8)) (1.2.2)\n",
            "Requirement already satisfied: urllib3!=2.2.0,<3,>=1.25.4 in /usr/local/lib/python3.10/dist-packages (from botocore<1.35.0,>=1.34.145->boto3->-r /content/drive/MyDrive/HarmBench/requirements_full.txt (line 21)) (2.0.7)\n",
            "Collecting gitdb<5,>=4.0.1 (from gitpython!=3.1.29,>=1.0.0->wandb->-r /content/drive/MyDrive/HarmBench/requirements_full.txt (line 1))\n",
            "  Downloading gitdb-4.0.11-py3-none-any.whl (62 kB)\n",
            "\u001b[2K     \u001b[90m━━━━━━━━━━━━━━━━━━━━━━━━━━━━━━━━━━━━━━━━\u001b[0m \u001b[32m62.7/62.7 kB\u001b[0m \u001b[31m9.6 MB/s\u001b[0m eta \u001b[36m0:00:00\u001b[0m\n",
            "\u001b[?25hRequirement already satisfied: googleapis-common-protos<2.0.dev0,>=1.56.2 in /usr/local/lib/python3.10/dist-packages (from google-api-core->google-generativeai->-r /content/drive/MyDrive/HarmBench/requirements_full.txt (line 11)) (1.63.2)\n",
            "Requirement already satisfied: grpcio<2.0dev,>=1.33.2 in /usr/local/lib/python3.10/dist-packages (from google-api-core->google-generativeai->-r /content/drive/MyDrive/HarmBench/requirements_full.txt (line 11)) (1.64.1)\n",
            "Requirement already satisfied: grpcio-status<2.0.dev0,>=1.33.2 in /usr/local/lib/python3.10/dist-packages (from google-api-core->google-generativeai->-r /content/drive/MyDrive/HarmBench/requirements_full.txt (line 11)) (1.48.2)\n",
            "Requirement already satisfied: cachetools<6.0,>=2.0.0 in /usr/local/lib/python3.10/dist-packages (from google-auth>=2.15.0->google-generativeai->-r /content/drive/MyDrive/HarmBench/requirements_full.txt (line 11)) (5.4.0)\n",
            "Requirement already satisfied: pyasn1-modules>=0.2.1 in /usr/local/lib/python3.10/dist-packages (from google-auth>=2.15.0->google-generativeai->-r /content/drive/MyDrive/HarmBench/requirements_full.txt (line 11)) (0.4.0)\n",
            "Requirement already satisfied: rsa<5,>=3.1.4 in /usr/local/lib/python3.10/dist-packages (from google-auth>=2.15.0->google-generativeai->-r /content/drive/MyDrive/HarmBench/requirements_full.txt (line 11)) (4.9)\n",
            "Requirement already satisfied: google-cloud-core<3.0.0dev,>=1.6.0 in /usr/local/lib/python3.10/dist-packages (from google-cloud-bigquery!=3.20.0,<4.0.0dev,>=1.15.0->google-cloud-aiplatform->-r /content/drive/MyDrive/HarmBench/requirements_full.txt (line 12)) (2.3.3)\n",
            "Requirement already satisfied: google-resumable-media<3.0dev,>=0.6.0 in /usr/local/lib/python3.10/dist-packages (from google-cloud-bigquery!=3.20.0,<4.0.0dev,>=1.15.0->google-cloud-aiplatform->-r /content/drive/MyDrive/HarmBench/requirements_full.txt (line 12)) (2.7.1)\n",
            "Requirement already satisfied: grpc-google-iam-v1<1.0.0dev,>=0.12.4 in /usr/local/lib/python3.10/dist-packages (from google-cloud-resource-manager<3.0.0dev,>=1.3.3->google-cloud-aiplatform->-r /content/drive/MyDrive/HarmBench/requirements_full.txt (line 12)) (0.13.1)\n",
            "INFO: pip is looking at multiple versions of gql[requests] to determine which version is compatible with other requirements. This could take a while.\n",
            "Collecting gql[requests]>=3.4.1 (from weave->-r /content/drive/MyDrive/HarmBench/requirements_full.txt (line 23))\n",
            "  Downloading gql-3.4.1-py2.py3-none-any.whl (65 kB)\n",
            "\u001b[2K     \u001b[90m━━━━━━━━━━━━━━━━━━━━━━━━━━━━━━━━━━━━━━━━\u001b[0m \u001b[32m65.1/65.1 kB\u001b[0m \u001b[31m7.9 MB/s\u001b[0m eta \u001b[36m0:00:00\u001b[0m\n",
            "\u001b[?25hCollecting analytics-python>=1.2.9 (from weave->-r /content/drive/MyDrive/HarmBench/requirements_full.txt (line 23))\n",
            "  Downloading analytics_python-1.4.0-py2.py3-none-any.whl (15 kB)\n",
            "  Downloading analytics_python-1.3.1-py2.py3-none-any.whl (16 kB)\n",
            "  Downloading analytics_python-1.2.9-py2.py3-none-any.whl (13 kB)\n",
            "Collecting backoff<3.0,>=1.11.1 (from gql[requests]>=3.4.1->weave->-r /content/drive/MyDrive/HarmBench/requirements_full.txt (line 23))\n",
            "  Downloading backoff-2.2.1-py3-none-any.whl (15 kB)\n",
            "Collecting requests-toolbelt<2,>=1.0.0 (from gql[requests]>=3.4.1->weave->-r /content/drive/MyDrive/HarmBench/requirements_full.txt (line 23))\n",
            "  Downloading requests_toolbelt-1.0.0-py2.py3-none-any.whl (54 kB)\n",
            "\u001b[2K     \u001b[90m━━━━━━━━━━━━━━━━━━━━━━━━━━━━━━━━━━━━━━━━\u001b[0m \u001b[32m54.5/54.5 kB\u001b[0m \u001b[31m7.9 MB/s\u001b[0m eta \u001b[36m0:00:00\u001b[0m\n",
            "\u001b[?25hRequirement already satisfied: certifi in /usr/local/lib/python3.10/dist-packages (from httpx->fschat->-r /content/drive/MyDrive/HarmBench/requirements_full.txt (line 6)) (2024.7.4)\n",
            "Collecting httpcore==1.* (from httpx->fschat->-r /content/drive/MyDrive/HarmBench/requirements_full.txt (line 6))\n",
            "  Downloading httpcore-1.0.5-py3-none-any.whl (77 kB)\n",
            "\u001b[2K     \u001b[90m━━━━━━━━━━━━━━━━━━━━━━━━━━━━━━━━━━━━━━━━\u001b[0m \u001b[32m77.9/77.9 kB\u001b[0m \u001b[31m12.6 MB/s\u001b[0m eta \u001b[36m0:00:00\u001b[0m\n",
            "\u001b[?25hCollecting h11<0.15,>=0.13 (from httpcore==1.*->httpx->fschat->-r /content/drive/MyDrive/HarmBench/requirements_full.txt (line 6))\n",
            "  Downloading h11-0.14.0-py3-none-any.whl (58 kB)\n",
            "\u001b[2K     \u001b[90m━━━━━━━━━━━━━━━━━━━━━━━━━━━━━━━━━━━━━━━━\u001b[0m \u001b[32m58.3/58.3 kB\u001b[0m \u001b[31m9.4 MB/s\u001b[0m eta \u001b[36m0:00:00\u001b[0m\n",
            "\u001b[?25hRequirement already satisfied: language-data>=1.2 in /usr/local/lib/python3.10/dist-packages (from langcodes<4.0.0,>=3.2.0->spacy->-r /content/drive/MyDrive/HarmBench/requirements_full.txt (line 2)) (1.2.0)\n",
            "Collecting lark (from outlines<0.1,>=0.0.43->vllm>=0.3.0->-r /content/drive/MyDrive/HarmBench/requirements_full.txt (line 4))\n",
            "  Downloading lark-1.1.9-py3-none-any.whl (111 kB)\n",
            "\u001b[2K     \u001b[90m━━━━━━━━━━━━━━━━━━━━━━━━━━━━━━━━━━━━━━━━\u001b[0m \u001b[32m111.7/111.7 kB\u001b[0m \u001b[31m17.5 MB/s\u001b[0m eta \u001b[36m0:00:00\u001b[0m\n",
            "\u001b[?25hRequirement already satisfied: nest-asyncio in /usr/local/lib/python3.10/dist-packages (from outlines<0.1,>=0.0.43->vllm>=0.3.0->-r /content/drive/MyDrive/HarmBench/requirements_full.txt (line 4)) (1.6.0)\n",
            "Requirement already satisfied: cloudpickle in /usr/local/lib/python3.10/dist-packages (from outlines<0.1,>=0.0.43->vllm>=0.3.0->-r /content/drive/MyDrive/HarmBench/requirements_full.txt (line 4)) (2.2.1)\n",
            "Collecting diskcache (from outlines<0.1,>=0.0.43->vllm>=0.3.0->-r /content/drive/MyDrive/HarmBench/requirements_full.txt (line 4))\n",
            "  Downloading diskcache-5.6.3-py3-none-any.whl (45 kB)\n",
            "\u001b[2K     \u001b[90m━━━━━━━━━━━━━━━━━━━━━━━━━━━━━━━━━━━━━━━━\u001b[0m \u001b[32m45.5/45.5 kB\u001b[0m \u001b[31m6.9 MB/s\u001b[0m eta \u001b[36m0:00:00\u001b[0m\n",
            "\u001b[?25hRequirement already satisfied: numba in /usr/local/lib/python3.10/dist-packages (from outlines<0.1,>=0.0.43->vllm>=0.3.0->-r /content/drive/MyDrive/HarmBench/requirements_full.txt (line 4)) (0.58.1)\n",
            "Requirement already satisfied: referencing in /usr/local/lib/python3.10/dist-packages (from outlines<0.1,>=0.0.43->vllm>=0.3.0->-r /content/drive/MyDrive/HarmBench/requirements_full.txt (line 4)) (0.35.1)\n",
            "Collecting datasets (from outlines<0.1,>=0.0.43->vllm>=0.3.0->-r /content/drive/MyDrive/HarmBench/requirements_full.txt (line 4))\n",
            "  Downloading datasets-2.20.0-py3-none-any.whl (547 kB)\n",
            "\u001b[2K     \u001b[90m━━━━━━━━━━━━━━━━━━━━━━━━━━━━━━━━━━━━━━━━\u001b[0m \u001b[32m547.8/547.8 kB\u001b[0m \u001b[31m52.7 MB/s\u001b[0m eta \u001b[36m0:00:00\u001b[0m\n",
            "\u001b[?25hCollecting pycountry (from outlines<0.1,>=0.0.43->vllm>=0.3.0->-r /content/drive/MyDrive/HarmBench/requirements_full.txt (line 4))\n",
            "  Downloading pycountry-24.6.1-py3-none-any.whl (6.3 MB)\n",
            "\u001b[2K     \u001b[90m━━━━━━━━━━━━━━━━━━━━━━━━━━━━━━━━━━━━━━━━\u001b[0m \u001b[32m6.3/6.3 MB\u001b[0m \u001b[31m122.5 MB/s\u001b[0m eta \u001b[36m0:00:00\u001b[0m\n",
            "\u001b[?25hCollecting pyairports (from outlines<0.1,>=0.0.43->vllm>=0.3.0->-r /content/drive/MyDrive/HarmBench/requirements_full.txt (line 4))\n",
            "  Downloading pyairports-2.1.1-py3-none-any.whl (371 kB)\n",
            "\u001b[2K     \u001b[90m━━━━━━━━━━━━━━━━━━━━━━━━━━━━━━━━━━━━━━━━\u001b[0m \u001b[32m371.7/371.7 kB\u001b[0m \u001b[31m41.3 MB/s\u001b[0m eta \u001b[36m0:00:00\u001b[0m\n",
            "\u001b[?25hCollecting starlette<1.0.0,>=0.30.0 (from prometheus-fastapi-instrumentator>=7.0.0->vllm>=0.3.0->-r /content/drive/MyDrive/HarmBench/requirements_full.txt (line 4))\n",
            "  Downloading starlette-0.37.2-py3-none-any.whl (71 kB)\n",
            "\u001b[2K     \u001b[90m━━━━━━━━━━━━━━━━━━━━━━━━━━━━━━━━━━━━━━━━\u001b[0m \u001b[32m71.9/71.9 kB\u001b[0m \u001b[31m11.3 MB/s\u001b[0m eta \u001b[36m0:00:00\u001b[0m\n",
            "\u001b[?25hRequirement already satisfied: wcwidth in /usr/local/lib/python3.10/dist-packages (from prompt-toolkit>=3.0.0->fschat->-r /content/drive/MyDrive/HarmBench/requirements_full.txt (line 6)) (0.2.13)\n",
            "Requirement already satisfied: annotated-types>=0.4.0 in /usr/local/lib/python3.10/dist-packages (from pydantic!=1.8,!=1.8.1,<3.0.0,>=1.7.4->spacy->-r /content/drive/MyDrive/HarmBench/requirements_full.txt (line 2)) (0.7.0)\n",
            "Requirement already satisfied: pydantic-core==2.20.1 in /usr/local/lib/python3.10/dist-packages (from pydantic!=1.8,!=1.8.1,<3.0.0,>=1.7.4->spacy->-r /content/drive/MyDrive/HarmBench/requirements_full.txt (line 2)) (2.20.1)\n",
            "Requirement already satisfied: charset-normalizer<4,>=2 in /usr/local/lib/python3.10/dist-packages (from requests<3,>=2.0.0->wandb->-r /content/drive/MyDrive/HarmBench/requirements_full.txt (line 1)) (3.3.2)\n",
            "Requirement already satisfied: markdown-it-py>=2.2.0 in /usr/local/lib/python3.10/dist-packages (from rich>=10.0.0->fschat->-r /content/drive/MyDrive/HarmBench/requirements_full.txt (line 6)) (3.0.0)\n",
            "Requirement already satisfied: pygments<3.0.0,>=2.13.0 in /usr/local/lib/python3.10/dist-packages (from rich>=10.0.0->fschat->-r /content/drive/MyDrive/HarmBench/requirements_full.txt (line 6)) (2.16.1)\n",
            "Requirement already satisfied: blis<0.8.0,>=0.7.8 in /usr/local/lib/python3.10/dist-packages (from thinc<8.3.0,>=8.2.2->spacy->-r /content/drive/MyDrive/HarmBench/requirements_full.txt (line 2)) (0.7.11)\n",
            "Requirement already satisfied: shellingham>=1.3.0 in /usr/local/lib/python3.10/dist-packages (from typer<1.0.0,>=0.3.0->spacy->-r /content/drive/MyDrive/HarmBench/requirements_full.txt (line 2)) (1.5.4)\n",
            "Requirement already satisfied: cloudpathlib<1.0.0,>=0.7.0 in /usr/local/lib/python3.10/dist-packages (from weasel<0.5.0,>=0.1.0->spacy->-r /content/drive/MyDrive/HarmBench/requirements_full.txt (line 2)) (0.18.1)\n",
            "Requirement already satisfied: smart-open<8.0.0,>=5.2.1 in /usr/local/lib/python3.10/dist-packages (from weasel<0.5.0,>=0.1.0->spacy->-r /content/drive/MyDrive/HarmBench/requirements_full.txt (line 2)) (7.0.4)\n",
            "Requirement already satisfied: MarkupSafe>=2.1.1 in /usr/local/lib/python3.10/dist-packages (from Werkzeug>=3.0.3->weave->-r /content/drive/MyDrive/HarmBench/requirements_full.txt (line 23)) (2.1.5)\n",
            "Collecting fastapi-cli>=0.0.2 (from fastapi->vllm>=0.3.0->-r /content/drive/MyDrive/HarmBench/requirements_full.txt (line 4))\n",
            "  Downloading fastapi_cli-0.0.4-py3-none-any.whl (9.5 kB)\n",
            "Collecting python-multipart>=0.0.7 (from fastapi->vllm>=0.3.0->-r /content/drive/MyDrive/HarmBench/requirements_full.txt (line 4))\n",
            "  Downloading python_multipart-0.0.9-py3-none-any.whl (22 kB)\n",
            "Collecting email_validator>=2.0.0 (from fastapi->vllm>=0.3.0->-r /content/drive/MyDrive/HarmBench/requirements_full.txt (line 4))\n",
            "  Downloading email_validator-2.2.0-py3-none-any.whl (33 kB)\n",
            "Collecting httptools>=0.5.0 (from uvicorn[standard]->vllm>=0.3.0->-r /content/drive/MyDrive/HarmBench/requirements_full.txt (line 4))\n",
            "  Downloading httptools-0.6.1-cp310-cp310-manylinux_2_5_x86_64.manylinux1_x86_64.manylinux_2_17_x86_64.manylinux2014_x86_64.whl (341 kB)\n",
            "\u001b[2K     \u001b[90m━━━━━━━━━━━━━━━━━━━━━━━━━━━━━━━━━━━━━━━━\u001b[0m \u001b[32m341.4/341.4 kB\u001b[0m \u001b[31m41.0 MB/s\u001b[0m eta \u001b[36m0:00:00\u001b[0m\n",
            "\u001b[?25hCollecting python-dotenv>=0.13 (from uvicorn[standard]->vllm>=0.3.0->-r /content/drive/MyDrive/HarmBench/requirements_full.txt (line 4))\n",
            "  Downloading python_dotenv-1.0.1-py3-none-any.whl (19 kB)\n",
            "Collecting uvloop!=0.15.0,!=0.15.1,>=0.14.0 (from uvicorn[standard]->vllm>=0.3.0->-r /content/drive/MyDrive/HarmBench/requirements_full.txt (line 4))\n",
            "  Downloading uvloop-0.19.0-cp310-cp310-manylinux_2_17_x86_64.manylinux2014_x86_64.whl (3.4 MB)\n",
            "\u001b[2K     \u001b[90m━━━━━━━━━━━━━━━━━━━━━━━━━━━━━━━━━━━━━━━━\u001b[0m \u001b[32m3.4/3.4 MB\u001b[0m \u001b[31m105.2 MB/s\u001b[0m eta \u001b[36m0:00:00\u001b[0m\n",
            "\u001b[?25hCollecting watchfiles>=0.13 (from uvicorn[standard]->vllm>=0.3.0->-r /content/drive/MyDrive/HarmBench/requirements_full.txt (line 4))\n",
            "  Downloading watchfiles-0.22.0-cp310-cp310-manylinux_2_17_x86_64.manylinux2014_x86_64.whl (1.2 MB)\n",
            "\u001b[2K     \u001b[90m━━━━━━━━━━━━━━━━━━━━━━━━━━━━━━━━━━━━━━━━\u001b[0m \u001b[32m1.2/1.2 MB\u001b[0m \u001b[31m78.7 MB/s\u001b[0m eta \u001b[36m0:00:00\u001b[0m\n",
            "\u001b[?25hCollecting websockets>=10.4 (from uvicorn[standard]->vllm>=0.3.0->-r /content/drive/MyDrive/HarmBench/requirements_full.txt (line 4))\n",
            "  Downloading websockets-12.0-cp310-cp310-manylinux_2_5_x86_64.manylinux1_x86_64.manylinux_2_17_x86_64.manylinux2014_x86_64.whl (130 kB)\n",
            "\u001b[2K     \u001b[90m━━━━━━━━━━━━━━━━━━━━━━━━━━━━━━━━━━━━━━━━\u001b[0m \u001b[32m130.2/130.2 kB\u001b[0m \u001b[31m17.7 MB/s\u001b[0m eta \u001b[36m0:00:00\u001b[0m\n",
            "\u001b[?25hRequirement already satisfied: httplib2<1dev,>=0.15.0 in /usr/local/lib/python3.10/dist-packages (from google-api-python-client->google-generativeai->-r /content/drive/MyDrive/HarmBench/requirements_full.txt (line 11)) (0.22.0)\n",
            "Requirement already satisfied: google-auth-httplib2>=0.1.0 in /usr/local/lib/python3.10/dist-packages (from google-api-python-client->google-generativeai->-r /content/drive/MyDrive/HarmBench/requirements_full.txt (line 11)) (0.1.1)\n",
            "Requirement already satisfied: uritemplate<5,>=3.0.1 in /usr/local/lib/python3.10/dist-packages (from google-api-python-client->google-generativeai->-r /content/drive/MyDrive/HarmBench/requirements_full.txt (line 11)) (4.1.1)\n",
            "Requirement already satisfied: sortedcontainers<3.0.0,>=2.1.0 in /usr/local/lib/python3.10/dist-packages (from hypothesis->bpe->-r /content/drive/MyDrive/HarmBench/requirements_full.txt (line 22)) (2.4.0)\n",
            "Requirement already satisfied: jsonschema-specifications>=2023.03.6 in /usr/local/lib/python3.10/dist-packages (from jsonschema->ray->-r /content/drive/MyDrive/HarmBench/requirements_full.txt (line 7)) (2023.12.1)\n",
            "Requirement already satisfied: rpds-py>=0.7.1 in /usr/local/lib/python3.10/dist-packages (from jsonschema->ray->-r /content/drive/MyDrive/HarmBench/requirements_full.txt (line 7)) (0.19.0)\n",
            "Collecting wavedrom (from markdown2[all]->fschat->-r /content/drive/MyDrive/HarmBench/requirements_full.txt (line 6))\n",
            "  Downloading wavedrom-2.0.3.post3.tar.gz (137 kB)\n",
            "\u001b[2K     \u001b[90m━━━━━━━━━━━━━━━━━━━━━━━━━━━━━━━━━━━━━━━━\u001b[0m \u001b[32m137.7/137.7 kB\u001b[0m \u001b[31m20.8 MB/s\u001b[0m eta \u001b[36m0:00:00\u001b[0m\n",
            "\u001b[?25h  Preparing metadata (setup.py) ... \u001b[?25l\u001b[?25hdone\n",
            "Collecting latex2mathml (from markdown2[all]->fschat->-r /content/drive/MyDrive/HarmBench/requirements_full.txt (line 6))\n",
            "  Downloading latex2mathml-3.77.0-py3-none-any.whl (73 kB)\n",
            "\u001b[2K     \u001b[90m━━━━━━━━━━━━━━━━━━━━━━━━━━━━━━━━━━━━━━━━\u001b[0m \u001b[32m73.7/73.7 kB\u001b[0m \u001b[31m12.1 MB/s\u001b[0m eta \u001b[36m0:00:00\u001b[0m\n",
            "\u001b[?25hCollecting mypy-extensions>=1.0.0 (from mypy->bpe->-r /content/drive/MyDrive/HarmBench/requirements_full.txt (line 22))\n",
            "  Downloading mypy_extensions-1.0.0-py3-none-any.whl (4.7 kB)\n",
            "Requirement already satisfied: tomli>=1.1.0 in /usr/local/lib/python3.10/dist-packages (from mypy->bpe->-r /content/drive/MyDrive/HarmBench/requirements_full.txt (line 22)) (2.0.1)\n",
            "Requirement already satisfied: joblib in /usr/local/lib/python3.10/dist-packages (from nltk->bpe->-r /content/drive/MyDrive/HarmBench/requirements_full.txt (line 22)) (1.4.2)\n",
            "Requirement already satisfied: iniconfig in /usr/local/lib/python3.10/dist-packages (from pytest->bpe->-r /content/drive/MyDrive/HarmBench/requirements_full.txt (line 22)) (2.0.0)\n",
            "Requirement already satisfied: pluggy<2.0,>=0.12 in /usr/local/lib/python3.10/dist-packages (from pytest->bpe->-r /content/drive/MyDrive/HarmBench/requirements_full.txt (line 22)) (1.5.0)\n",
            "Requirement already satisfied: threadpoolctl>=2.0.0 in /usr/local/lib/python3.10/dist-packages (from scikit-learn->sentence-transformers->-r /content/drive/MyDrive/HarmBench/requirements_full.txt (line 14)) (3.5.0)\n",
            "Collecting dnspython>=2.0.0 (from email_validator>=2.0.0->fastapi->vllm>=0.3.0->-r /content/drive/MyDrive/HarmBench/requirements_full.txt (line 4))\n",
            "  Downloading dnspython-2.6.1-py3-none-any.whl (307 kB)\n",
            "\u001b[2K     \u001b[90m━━━━━━━━━━━━━━━━━━━━━━━━━━━━━━━━━━━━━━━━\u001b[0m \u001b[32m307.7/307.7 kB\u001b[0m \u001b[31m39.0 MB/s\u001b[0m eta \u001b[36m0:00:00\u001b[0m\n",
            "\u001b[?25hCollecting smmap<6,>=3.0.1 (from gitdb<5,>=4.0.1->gitpython!=3.1.29,>=1.0.0->wandb->-r /content/drive/MyDrive/HarmBench/requirements_full.txt (line 1))\n",
            "  Downloading smmap-5.0.1-py3-none-any.whl (24 kB)\n",
            "Requirement already satisfied: google-crc32c<2.0dev,>=1.0 in /usr/local/lib/python3.10/dist-packages (from google-resumable-media<3.0dev,>=0.6.0->google-cloud-bigquery!=3.20.0,<4.0.0dev,>=1.15.0->google-cloud-aiplatform->-r /content/drive/MyDrive/HarmBench/requirements_full.txt (line 12)) (1.5.0)\n",
            "Requirement already satisfied: marisa-trie>=0.7.7 in /usr/local/lib/python3.10/dist-packages (from language-data>=1.2->langcodes<4.0.0,>=3.2.0->spacy->-r /content/drive/MyDrive/HarmBench/requirements_full.txt (line 2)) (1.2.0)\n",
            "Requirement already satisfied: mdurl~=0.1 in /usr/local/lib/python3.10/dist-packages (from markdown-it-py>=2.2.0->rich>=10.0.0->fschat->-r /content/drive/MyDrive/HarmBench/requirements_full.txt (line 6)) (0.1.2)\n",
            "Requirement already satisfied: pyasn1<0.7.0,>=0.4.6 in /usr/local/lib/python3.10/dist-packages (from pyasn1-modules>=0.2.1->google-auth>=2.15.0->google-generativeai->-r /content/drive/MyDrive/HarmBench/requirements_full.txt (line 11)) (0.6.0)\n",
            "Requirement already satisfied: wrapt in /usr/local/lib/python3.10/dist-packages (from smart-open<8.0.0,>=5.2.1->weasel<0.5.0,>=0.1.0->spacy->-r /content/drive/MyDrive/HarmBench/requirements_full.txt (line 2)) (1.14.1)\n",
            "Collecting pyarrow>=14.0.1 (from weave->-r /content/drive/MyDrive/HarmBench/requirements_full.txt (line 23))\n",
            "  Downloading pyarrow-17.0.0-cp310-cp310-manylinux_2_28_x86_64.whl (39.9 MB)\n",
            "\u001b[2K     \u001b[90m━━━━━━━━━━━━━━━━━━━━━━━━━━━━━━━━━━━━━━━━\u001b[0m \u001b[32m39.9/39.9 MB\u001b[0m \u001b[31m42.0 MB/s\u001b[0m eta \u001b[36m0:00:00\u001b[0m\n",
            "\u001b[?25hRequirement already satisfied: pyarrow-hotfix in /usr/local/lib/python3.10/dist-packages (from datasets->outlines<0.1,>=0.0.43->vllm>=0.3.0->-r /content/drive/MyDrive/HarmBench/requirements_full.txt (line 4)) (0.6)\n",
            "Collecting dill<0.3.9,>=0.3.0 (from datasets->outlines<0.1,>=0.0.43->vllm>=0.3.0->-r /content/drive/MyDrive/HarmBench/requirements_full.txt (line 4))\n",
            "  Downloading dill-0.3.8-py3-none-any.whl (116 kB)\n",
            "\u001b[2K     \u001b[90m━━━━━━━━━━━━━━━━━━━━━━━━━━━━━━━━━━━━━━━━\u001b[0m \u001b[32m116.3/116.3 kB\u001b[0m \u001b[31m17.2 MB/s\u001b[0m eta \u001b[36m0:00:00\u001b[0m\n",
            "\u001b[?25hCollecting requests<3,>=2.0.0 (from wandb->-r /content/drive/MyDrive/HarmBench/requirements_full.txt (line 1))\n",
            "  Downloading requests-2.32.3-py3-none-any.whl (64 kB)\n",
            "\u001b[2K     \u001b[90m━━━━━━━━━━━━━━━━━━━━━━━━━━━━━━━━━━━━━━━━\u001b[0m \u001b[32m64.9/64.9 kB\u001b[0m \u001b[31m9.8 MB/s\u001b[0m eta \u001b[36m0:00:00\u001b[0m\n",
            "\u001b[?25hCollecting xxhash (from datasets->outlines<0.1,>=0.0.43->vllm>=0.3.0->-r /content/drive/MyDrive/HarmBench/requirements_full.txt (line 4))\n",
            "  Downloading xxhash-3.4.1-cp310-cp310-manylinux_2_17_x86_64.manylinux2014_x86_64.whl (194 kB)\n",
            "\u001b[2K     \u001b[90m━━━━━━━━━━━━━━━━━━━━━━━━━━━━━━━━━━━━━━━━\u001b[0m \u001b[32m194.1/194.1 kB\u001b[0m \u001b[31m28.1 MB/s\u001b[0m eta \u001b[36m0:00:00\u001b[0m\n",
            "\u001b[?25hCollecting multiprocess (from datasets->outlines<0.1,>=0.0.43->vllm>=0.3.0->-r /content/drive/MyDrive/HarmBench/requirements_full.txt (line 4))\n",
            "  Downloading multiprocess-0.70.16-py310-none-any.whl (134 kB)\n",
            "\u001b[2K     \u001b[90m━━━━━━━━━━━━━━━━━━━━━━━━━━━━━━━━━━━━━━━━\u001b[0m \u001b[32m134.8/134.8 kB\u001b[0m \u001b[31m19.3 MB/s\u001b[0m eta \u001b[36m0:00:00\u001b[0m\n",
            "\u001b[?25hRequirement already satisfied: llvmlite<0.42,>=0.41.0dev0 in /usr/local/lib/python3.10/dist-packages (from numba->outlines<0.1,>=0.0.43->vllm>=0.3.0->-r /content/drive/MyDrive/HarmBench/requirements_full.txt (line 4)) (0.41.1)\n",
            "Requirement already satisfied: mpmath<1.4,>=1.1.0 in /usr/local/lib/python3.10/dist-packages (from sympy->torch==2.3.1->vllm>=0.3.0->-r /content/drive/MyDrive/HarmBench/requirements_full.txt (line 4)) (1.3.0)\n",
            "Collecting svgwrite (from wavedrom->markdown2[all]->fschat->-r /content/drive/MyDrive/HarmBench/requirements_full.txt (line 6))\n",
            "  Downloading svgwrite-1.4.3-py3-none-any.whl (67 kB)\n",
            "\u001b[2K     \u001b[90m━━━━━━━━━━━━━━━━━━━━━━━━━━━━━━━━━━━━━━━━\u001b[0m \u001b[32m67.1/67.1 kB\u001b[0m \u001b[31m10.4 MB/s\u001b[0m eta \u001b[36m0:00:00\u001b[0m\n",
            "\u001b[?25hBuilding wheels for collected packages: wavedrom\n",
            "  Building wheel for wavedrom (setup.py) ... \u001b[?25l\u001b[?25hdone\n",
            "  Created wheel for wavedrom: filename=wavedrom-2.0.3.post3-py2.py3-none-any.whl size=30055 sha256=16633b2715bde547bb58980ae77b5b6e36cb7b47fe9e5b6f502be335823260ae\n",
            "  Stored in directory: /root/.cache/pip/wheels/9c/52/8c/38b454b42f712f325e26f633287484c7dc1ad469e1580c5954\n",
            "Successfully built wavedrom\n",
            "Installing collected packages: pyairports, nvidia-ml-py, ninja, nh3, xxhash, websockets, uvloop, svgwrite, smmap, shortuuid, setproctitle, sentry-sdk, requests, python-multipart, python-json-logger, python-dotenv, pycountry, pyarrow, orjson, nvidia-nvtx-cu12, nvidia-nvjitlink-cu12, nvidia-nccl-cu12, nvidia-curand-cu12, nvidia-cufft-cu12, nvidia-cuda-runtime-cu12, nvidia-cuda-nvrtc-cu12, nvidia-cuda-cupti-cu12, nvidia-cublas-cu12, mypy-extensions, markdown2, latex2mathml, lark, jmespath, jiter, janus, interegular, hypothesis, httptools, h11, graphql-core, emoji, docker-pycreds, dnspython, diskcache, dill, backoff, art, aioprocessing, aiofiles, wavedrom, watchfiles, uvicorn, tiktoken, starlette, requests-toolbelt, nvidia-cusparse-cu12, nvidia-cudnn-cu12, mypy, multiprocess, httpcore, gql, gitdb, email_validator, datasketch, botocore, analytics-python, s3transfer, prometheus-fastapi-instrumentator, nvidia-cusolver-cu12, lm-format-enforcer, httpx, gitpython, bpe, wandb, ray, openai, mistralai, fastapi-cli, datasets, boto3, anthropic, xformers, weave, vllm-flash-attn, sentence-transformers, outlines, fastapi, vllm, fschat\n",
            "  Attempting uninstall: requests\n",
            "    Found existing installation: requests 2.31.0\n",
            "    Uninstalling requests-2.31.0:\n",
            "      Successfully uninstalled requests-2.31.0\n",
            "  Attempting uninstall: pyarrow\n",
            "    Found existing installation: pyarrow 14.0.2\n",
            "    Uninstalling pyarrow-14.0.2:\n",
            "      Successfully uninstalled pyarrow-14.0.2\n",
            "\u001b[31mERROR: pip's dependency resolver does not currently take into account all the packages that are installed. This behaviour is the source of the following dependency conflicts.\n",
            "cudf-cu12 24.4.1 requires pyarrow<15.0.0a0,>=14.0.1, but you have pyarrow 17.0.0 which is incompatible.\n",
            "google-colab 1.0.0 requires requests==2.31.0, but you have requests 2.32.3 which is incompatible.\n",
            "ibis-framework 8.0.0 requires pyarrow<16,>=2, but you have pyarrow 17.0.0 which is incompatible.\u001b[0m\u001b[31m\n",
            "\u001b[0mSuccessfully installed aiofiles-24.1.0 aioprocessing-2.0.1 analytics-python-1.2.9 anthropic-0.31.2 art-6.2 backoff-2.2.1 boto3-1.34.145 botocore-1.34.145 bpe-1.0 datasets-2.20.0 datasketch-1.6.5 dill-0.3.8 diskcache-5.6.3 dnspython-2.6.1 docker-pycreds-0.4.0 email_validator-2.2.0 emoji-2.12.1 fastapi-0.111.1 fastapi-cli-0.0.4 fschat-0.2.36 gitdb-4.0.11 gitpython-3.1.43 gql-3.5.0 graphql-core-3.2.3 h11-0.14.0 httpcore-1.0.5 httptools-0.6.1 httpx-0.27.0 hypothesis-6.108.2 interegular-0.3.3 janus-1.0.0 jiter-0.5.0 jmespath-1.0.1 lark-1.1.9 latex2mathml-3.77.0 lm-format-enforcer-0.10.3 markdown2-2.5.0 mistralai-0.4.2 multiprocess-0.70.16 mypy-1.10.1 mypy-extensions-1.0.0 nh3-0.2.18 ninja-1.11.1.1 nvidia-cublas-cu12-12.1.3.1 nvidia-cuda-cupti-cu12-12.1.105 nvidia-cuda-nvrtc-cu12-12.1.105 nvidia-cuda-runtime-cu12-12.1.105 nvidia-cudnn-cu12-8.9.2.26 nvidia-cufft-cu12-11.0.2.54 nvidia-curand-cu12-10.3.2.106 nvidia-cusolver-cu12-11.4.5.107 nvidia-cusparse-cu12-12.1.0.106 nvidia-ml-py-12.555.43 nvidia-nccl-cu12-2.20.5 nvidia-nvjitlink-cu12-12.5.82 nvidia-nvtx-cu12-12.1.105 openai-1.36.0 orjson-3.10.6 outlines-0.0.46 prometheus-fastapi-instrumentator-7.0.0 pyairports-2.1.1 pyarrow-17.0.0 pycountry-24.6.1 python-dotenv-1.0.1 python-json-logger-2.0.7 python-multipart-0.0.9 ray-2.32.0 requests-2.32.3 requests-toolbelt-1.0.0 s3transfer-0.10.2 sentence-transformers-3.0.1 sentry-sdk-2.10.0 setproctitle-1.3.3 shortuuid-1.0.13 smmap-5.0.1 starlette-0.37.2 svgwrite-1.4.3 tiktoken-0.7.0 uvicorn-0.30.1 uvloop-0.19.0 vllm-0.5.2 vllm-flash-attn-2.5.9.post1 wandb-0.17.4 watchfiles-0.22.0 wavedrom-2.0.3.post3 weave-0.50.10 websockets-12.0 xformers-0.0.27 xxhash-3.4.1\n"
          ]
        },
        {
          "output_type": "display_data",
          "data": {
            "application/vnd.colab-display-data+json": {
              "pip_warning": {
                "packages": [
                  "pyarrow"
                ]
              },
              "id": "03a3aed1c36c4a20b0a7f715c1e7599d"
            }
          },
          "metadata": {}
        }
      ],
      "source": [
        "!pip install -r {REQUIREMENTS_PATH}"
      ]
    },
    {
      "cell_type": "code",
      "execution_count": null,
      "metadata": {
        "colab": {
          "base_uri": "https://localhost:8080/"
        },
        "id": "z3WLPzYPmnwA",
        "outputId": "a63ef4c4-ec36-4369-a25d-0fc82ee3c0da"
      },
      "outputs": [
        {
          "output_type": "stream",
          "name": "stdout",
          "text": [
            "/content/drive/MyDrive/HarmBench\n"
          ]
        }
      ],
      "source": [
        "%cd /content/drive/MyDrive/HarmBench"
      ]
    },
    {
      "cell_type": "markdown",
      "source": [
        "### Set variables\n",
        "\n",
        "* WANDB_API_KEY\n",
        "* GITHUB_TOKEN\n",
        "* OPENAI_API_KEY\n",
        "* MISTRAL_API_KEY\n",
        "* CLAUDE_API_KEY\n",
        "* HF_TOKEN"
      ],
      "metadata": {
        "id": "ofkfxTQtWDCu"
      }
    },
    {
      "cell_type": "code",
      "source": [
        "# wandb & badlamma setting\n",
        "os.environ[\"WANDB__EXECUTABLE\"] = \"/usr/local/bin/python\""
      ],
      "metadata": {
        "id": "pRN0vvzsWGJQ"
      },
      "execution_count": null,
      "outputs": []
    },
    {
      "cell_type": "code",
      "execution_count": null,
      "metadata": {
        "id": "QyTyX4kbrg41"
      },
      "outputs": [],
      "source": [
        "def set_env_variable(variable_name):\n",
        "    \"\"\"\n",
        "    Sets an environment variable with the specified name. If the variable is already present\n",
        "    in the environment, it uses the existing value from `userdata`. If not, it prompts the user\n",
        "    to input the value and sets the environment variable with that input.\n",
        "\n",
        "    Args:\n",
        "        variable_name (str): The name of the environment variable to be set.\n",
        "\n",
        "    Raises:\n",
        "        KeyError: If the variable_name is not present in `userdata` when it is expected.\n",
        "    \"\"\"\n",
        "    if userdata.get(variable_name):\n",
        "       os.environ[variable_name] = userdata.get(variable_name)\n",
        "    else:\n",
        "       os.environ[variable_name] = input(f\"Enter the value for {variable_name}: \")"
      ]
    },
    {
      "cell_type": "code",
      "source": [
        "set_env_variable(\"OPENAI_API_KEY\")\n",
        "set_env_variable(\"WANDB_API_KEY\")\n",
        "set_env_variable(\"GITHUB_TOKEN\")"
      ],
      "metadata": {
        "id": "PZppgH2CWIxL"
      },
      "execution_count": null,
      "outputs": []
    },
    {
      "cell_type": "markdown",
      "metadata": {
        "id": "EPb_sAs-G-iw"
      },
      "source": [
        "## Functions"
      ]
    },
    {
      "cell_type": "code",
      "execution_count": null,
      "metadata": {
        "id": "u3aVz3NiHeRD"
      },
      "outputs": [],
      "source": [
        "def run_evaluate_completions(experiment_name, behaviors_path):\n",
        "    \"\"\"\n",
        "    Run the evaluate_completions.py script as a subprocess.\n",
        "\n",
        "    This function executes the evaluate_completions.py script with the specified parameters,\n",
        "    captures its output in real-time, and prints it to the console.\n",
        "\n",
        "    Args:\n",
        "        behaviors_path (str): Path to the behaviors dataset file.\n",
        "        completions_path (str): Path to the completions file to be evaluated.\n",
        "        save_path (str): Path where the evaluation results will be saved.\n",
        "\n",
        "    Returns:\n",
        "        None\n",
        "\n",
        "    Raises:\n",
        "        subprocess.CalledProcessError: If the subprocess returns a non-zero exit status.\n",
        "    \"\"\"\n",
        "\n",
        "    # Set up variables\n",
        "\n",
        "    completions_path = f'/content/drive/MyDrive/HarmBench/results/completions/completions_{experiment_name}.json'\n",
        "    save_path = f'/content/drive/MyDrive/HarmBench/results/evaled_{experiment_name}.json'\n",
        "\n",
        "    # Execute the script as a subprocess\n",
        "    command = [\n",
        "        sys.executable,\n",
        "        \"-u\",\n",
        "        \"evaluate_completions.py\",\n",
        "        f\"--behaviors_path={behaviors_path}\",\n",
        "        f\"--completions_path={completions_path}\",\n",
        "        f\"--save_path={save_path}\"\n",
        "    ]\n",
        "\n",
        "    try:\n",
        "        process = subprocess.Popen(\n",
        "            command,\n",
        "            stdout=subprocess.PIPE,\n",
        "            stderr=subprocess.STDOUT,\n",
        "            text=True\n",
        "        )\n",
        "\n",
        "        for line in process.stdout:\n",
        "            print(line, end='')\n",
        "\n",
        "    except subprocess.CalledProcessError as e:\n",
        "        print(f\"Error: {e}\")"
      ]
    },
    {
      "cell_type": "code",
      "source": [
        "import wandb\n",
        "\n",
        "def process_results(experiment_name, project=\"test_db\", entity=\"palisaderesearch\"):\n",
        "    \"\"\"\n",
        "    Process the results of the evaluation and log them to Weights & Biases.\n",
        "\n",
        "    This function reads the evaluation results from a JSON file, creates a DataFrame,\n",
        "    and logs the results to Weights & Biases for tracking and visualization.\n",
        "\n",
        "    Args:\n",
        "        file (str): Name of the JSON file containing the evaluation results (without .json extension).\n",
        "        decomposer (bool): Flag indicating whether a decomposer was used in the experiment.\n",
        "        config_file (str): Path to the JSON config file to append to the run's config.\n",
        "\n",
        "    Returns:\n",
        "        None\n",
        "    \"\"\"\n",
        "    # Set up variables\n",
        "    MODEL_TARGET = os.getenv(\"MODEL_TARGET\")\n",
        "    MODEL_DECOMPOSER = os.getenv(\"MODEL_DECOMPOSER\")\n",
        "    config_file=f'/content/drive/MyDrive/HarmBench/config_{experiment_name}.json'\n",
        "    evaled_file = f'/content/drive/MyDrive/HarmBench/results/evaled_{experiment_name}.json'\n",
        "\n",
        "    # Load the JSON data\n",
        "    data_eval = pd.read_json(evaled_file)\n",
        "    data_summ = pd.read_json(f\"/content/drive/MyDrive/HarmBench/summary_{MODEL_TARGET}_{MODEL_DECOMPOSER}.json\")\n",
        "\n",
        "    # Convert JSON data to DataFrame\n",
        "    df_evaled = pd.DataFrame([{\"category\": key, **value[0]} for key, value in data_eval.items()])\n",
        "    df = df_evaled.merge(data_summ, on='test_case', how='inner')\n",
        "\n",
        "    # Add additional columns\n",
        "    df[\"target_model\"] = os.getenv(\"MODEL_TARGET\")\n",
        "    df[\"decomposer_model\"] = os.getenv(\"MODEL_DECOMPOSER\")\n",
        "    df['composer_model'] = os.getenv(\"MODEL_COMPOSER\")\n",
        "    df[\"surrogate_model\"] = os.getenv(\"MODEL_SURROGATE\")\n",
        "    df[\"ASR\"] = df[\"label\"].mean()\n",
        "\n",
        "    # Remove duplicates\n",
        "    df = df.drop_duplicates(subset=['test_case'])\n",
        "\n",
        "    # Remove the 'generation_y' column\n",
        "    df.drop('generation_y', axis=1, inplace=True)\n",
        "\n",
        "    # Rename 'generation_x' to 'generation'\n",
        "    df.rename(columns={'generation_x': 'generation'}, inplace=True)\n",
        "\n",
        "    # Rename columns to start with 'tokens_' or 'price_'\n",
        "    rename_dict = {\n",
        "        'surrogate_tokens': 'tokens_surrogate',\n",
        "        'target_tokens': 'tokens_target',\n",
        "        'decomposer_tokens': 'tokens_decomposer',\n",
        "        'composer_tokens': 'tokens_composer',\n",
        "        'surrogate_price': 'price_surrogate',\n",
        "        'target_price': 'price_target',\n",
        "        'decomposer_price': 'price_decomposer',\n",
        "        'composer_price': 'price_composer'\n",
        "    }\n",
        "    df.rename(columns=rename_dict, inplace=True)\n",
        "\n",
        "    # Print the DataFrame\n",
        "    print(df.head())\n",
        "\n",
        "    # Initialize W&B run\n",
        "    run = wandb.init(\n",
        "        entity=entity,\n",
        "        project=project,\n",
        "        save_code=False,\n",
        "        name=f\"decomp_{MODEL_TARGET}_{MODEL_DECOMPOSER}_full\"\n",
        "    )\n",
        "\n",
        "    # Load the config file and update run config\n",
        "    with open(config_file, 'r') as f:\n",
        "        config_data = json.load(f)\n",
        "        run.config.update(config_data)\n",
        "\n",
        "    # Log the DataFrame as a W&B Table\n",
        "    run.log({\"harmbench\": wandb.Table(dataframe=df)})\n",
        "    run.summary[\"harmbench_mean\"] = df[\"label\"].mean()\n",
        "    run.summary[\"target_model\"] = os.getenv(\"MODEL_TARGET\")\n",
        "\n",
        "    # Finish the W&B run\n",
        "    run.finish()\n"
      ],
      "metadata": {
        "id": "8UIr9OvAVEct"
      },
      "execution_count": null,
      "outputs": []
    },
    {
      "cell_type": "code",
      "source": [
        "def experiment(experiment_name, experiment_params, project='test_db'):\n",
        "    \"\"\"\n",
        "    Run a complete experiment pipeline including completion generation, evaluation, and result processing.\n",
        "\n",
        "    This function sets up the environment, runs the necessary scripts for generating completions\n",
        "    and evaluating them, and then processes and logs the results.\n",
        "\n",
        "    Args:\n",
        "        experiment_params (dict): A dictionary containing experiment parameters including model names.\n",
        "\n",
        "    Returns:\n",
        "        None\n",
        "    \"\"\"\n",
        "\n",
        "    # Set up environment variables\n",
        "    for k, v in experiment_params.items():\n",
        "        os.environ[k] = str(v)\n",
        "\n",
        "    try:\n",
        "      run_evaluate_completions(\n",
        "          experiment_name,\n",
        "          behaviors_path=\"./data/behavior_datasets/harmbench_behaviors_text_all.csv\"\n",
        "      )\n",
        "\n",
        "      process_results(experiment_name, project)\n",
        "\n",
        "    except Exception as e:\n",
        "      print(e)\n",
        "      pass\n",
        "\n",
        "    for k, v in experiment_params.items():\n",
        "      del os.environ[k]\n",
        "\n"
      ],
      "metadata": {
        "id": "m-E8MNystsUw"
      },
      "execution_count": null,
      "outputs": []
    },
    {
      "cell_type": "code",
      "execution_count": null,
      "metadata": {
        "id": "QUaS5P16hGSj"
      },
      "outputs": [],
      "source": [
        "def get_summary_table(number_of_runs, project_name, entity_name='palisaderesearch'):\n",
        "    api = wandb.Api()\n",
        "\n",
        "    # Get all runs for the specified project\n",
        "    runs = api.runs(f\"{entity_name}/{project_name}\")\n",
        "\n",
        "    # Sort runs by creation time (newest first)\n",
        "    sorted_runs = sorted(runs, key=lambda run: datetime.strptime(run.created_at, \"%Y-%m-%dT%H:%M:%S\"), reverse=True)\n",
        "\n",
        "    # Get the n newest run IDs\n",
        "    newest_run_ids = [run.id for run in sorted_runs[:number_of_runs]]\n",
        "\n",
        "    full_table = pd.DataFrame()\n",
        "\n",
        "    # Iterate over the newest run IDs\n",
        "    for run_id in newest_run_ids:\n",
        "        artifact_name = f\"run-{run_id}-harmbench:v0\"\n",
        "        artifact_full_name = f\"{entity_name}/{project_name}/{artifact_name}\"\n",
        "\n",
        "        try:\n",
        "            # Attempt to retrieve the artifact\n",
        "            artifact = api.artifact(artifact_full_name)\n",
        "            table = artifact.get(\"harmbench\")\n",
        "            df = pd.DataFrame(data=table.data, columns=table.columns)\n",
        "\n",
        "            # Aggregate the data\n",
        "            agg_cols = ['price_total', 'tokens_total', 'ASR']\n",
        "            group_by_cols = ['target_model', 'decomposer_model']\n",
        "            aggregated_df = df.groupby(group_by_cols)[agg_cols].mean().reset_index()\n",
        "\n",
        "            # Rename the columns\n",
        "            aggregated_df = aggregated_df.rename(columns={\n",
        "                'price_total': 'AVG_price',\n",
        "                'tokens_total': 'AVG_tokens'\n",
        "            })\n",
        "\n",
        "            # Add run_id column\n",
        "            aggregated_df['run_id'] = run_id\n",
        "\n",
        "            full_table = pd.concat([full_table, aggregated_df], ignore_index=True)\n",
        "\n",
        "        except wandb.errors.CommError:\n",
        "            print(f\"Artifact not found: {artifact_full_name}\")\n",
        "\n",
        "    # Initialize a new wandb run\n",
        "    with wandb.init(project=project_name, entity=entity_name, job_type=\"summary_table\") as run:\n",
        "        # Log the summary table\n",
        "        run.log({\"summary_table\": wandb.Table(dataframe=full_table)})\n",
        "\n",
        "    # Print the resulting table\n",
        "    print(\"Summary Table:\")\n",
        "    print(full_table)\n",
        "\n",
        "    return full_table"
      ]
    },
    {
      "cell_type": "markdown",
      "metadata": {
        "id": "UaeUP5r4SP7f"
      },
      "source": [
        "## Run experiments"
      ]
    },
    {
      "cell_type": "code",
      "source": [
        "# path to experiments\n",
        "file_path = '/content/drive/MyDrive/HarmBench/experiment_params/experiments.json'"
      ],
      "metadata": {
        "id": "29MgxOxSlnLG"
      },
      "execution_count": null,
      "outputs": []
    },
    {
      "cell_type": "code",
      "source": [
        "with open(file_path, 'r') as json_file:\n",
        "    experiments_dict = json.load(json_file)"
      ],
      "metadata": {
        "id": "4iw9fS96ll-V"
      },
      "execution_count": null,
      "outputs": []
    },
    {
      "cell_type": "code",
      "execution_count": null,
      "metadata": {
        "id": "f9ynz13s_lkx"
      },
      "outputs": [],
      "source": [
        "for exp, params in experiments_dict.items():\n",
        "    print(f\"{exp}: {params}\")\n"
      ]
    },
    {
      "cell_type": "code",
      "execution_count": null,
      "metadata": {
        "id": "_ZsFWcKAiPDM"
      },
      "outputs": [],
      "source": [
        "for experiment_name, experiment_params in experiments_dict.items():\n",
        "  print(experiment_name)\n",
        "  experiment(experiment_params)\n",
        "  print('======================================')\n",
        "print(\"===================END=======================\")"
      ]
    },
    {
      "cell_type": "code",
      "source": [
        "# clean cash if needed\n",
        "\n",
        "import gc\n",
        "import torch\n",
        "\n",
        "gc.collect()\n",
        "\n",
        "torch.cuda.empty_cache()"
      ],
      "metadata": {
        "id": "muuuUW3DQh4B"
      },
      "execution_count": null,
      "outputs": []
    },
    {
      "cell_type": "markdown",
      "metadata": {
        "id": "1vn6d3VJnlyD"
      },
      "source": [
        "## Push summary table to Wandb\n",
        "\n"
      ]
    },
    {
      "cell_type": "code",
      "execution_count": null,
      "metadata": {
        "id": "MkKpRC1ahRGL"
      },
      "outputs": [],
      "source": [
        "get_summary_table(5, 'test_db')"
      ]
    },
    {
      "cell_type": "markdown",
      "metadata": {
        "id": "TqcmcMqcpV4u"
      },
      "source": [
        "\n",
        "\n",
        "---\n",
        "\n",
        "end of file"
      ]
    },
    {
      "cell_type": "markdown",
      "metadata": {
        "id": "d0LCegbF5mKd"
      },
      "source": []
    }
  ],
  "metadata": {
    "accelerator": "GPU",
    "colab": {
      "gpuType": "A100",
      "machine_shape": "hm",
      "provenance": [],
      "mount_file_id": "1Bf9c-f9Hx-O_S93ELbiS5QA0pcKmd0bA",
      "authorship_tag": "ABX9TyMj0S0WxldL3ILpB5YFAAfA",
      "include_colab_link": true
    },
    "kernelspec": {
      "display_name": "Python 3",
      "name": "python3"
    },
    "language_info": {
      "name": "python"
    }
  },
  "nbformat": 4,
  "nbformat_minor": 0
}